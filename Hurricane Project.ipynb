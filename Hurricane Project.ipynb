{
 "cells": [
  {
   "cell_type": "markdown",
   "id": "8bebfad5",
   "metadata": {},
   "source": [
    "# Hurricane Project"
   ]
  },
  {
   "cell_type": "markdown",
   "id": "270eb1e1",
   "metadata": {},
   "source": [
    "*names of hurricanes"
   ]
  },
  {
   "cell_type": "code",
   "execution_count": 179,
   "id": "93c0b01e",
   "metadata": {},
   "outputs": [],
   "source": [
    "names = ['Cuba I', 'San Felipe II Okeechobee', 'Bahamas', 'Cuba II', \n",
    "         'CubaBrownsville', 'Tampico', 'Labor Day', 'New England', 'Carol',\n",
    "         'Janet', 'Carla', 'Hattie', 'Beulah', 'Camille', 'Edith', 'Anita', \n",
    "         'David', 'Allen', 'Gilbert', 'Hugo', 'Andrew', 'Mitch', 'Isabel', 'Ivan',\n",
    "         'Emily', 'Katrina', 'Rita', 'Wilma', 'Dean', 'Felix', 'Matthew', 'Irma', \n",
    "         'Maria', 'Michael']"
   ]
  },
  {
   "cell_type": "markdown",
   "id": "a47bd504",
   "metadata": {},
   "source": [
    "*months of hurricanes"
   ]
  },
  {
   "cell_type": "code",
   "execution_count": 180,
   "id": "8cce78be",
   "metadata": {},
   "outputs": [],
   "source": [
    "months = ['October', 'September', 'September', 'November', 'August', 'September', \n",
    "          'September', 'September', 'September', 'September', 'September', 'October',\n",
    "          'September', 'August', 'September', 'September', 'August', 'August', 'September', \n",
    "          'September', 'August', 'October', 'September', 'September', 'July', 'August', 'September',\n",
    "          'October', 'August', 'September', 'October', 'September', 'September', 'October']"
   ]
  },
  {
   "cell_type": "markdown",
   "id": "26969f94",
   "metadata": {},
   "source": [
    "*years of hurricanes"
   ]
  },
  {
   "cell_type": "code",
   "execution_count": 181,
   "id": "a2f1a06a",
   "metadata": {},
   "outputs": [],
   "source": [
    "years = [1924, 1928, 1932, 1932, 1933, 1933, 1935, 1938, 1953, 1955, 1961, 1961, 1967, 1969, \n",
    "         1971, 1977, 1979, 1980, 1988, 1989, 1992, 1998, 2003, 2004, 2005, 2005, 2005, 2005, \n",
    "         2007, 2007, 2016, 2017, 2017, 2018]"
   ]
  },
  {
   "cell_type": "markdown",
   "id": "fd622a4b",
   "metadata": {},
   "source": [
    "maximum sustained winds (mph) of hurricanes"
   ]
  },
  {
   "cell_type": "code",
   "execution_count": 182,
   "id": "10a01d37",
   "metadata": {},
   "outputs": [],
   "source": [
    "max_sustained_winds = [165, 160, 160, 175, 160, 160, 185, 160, 160, 175, 175, 160, 160, 175, \n",
    "                       160, 175, 175, 190, 185, 160, 175, 180, 165, 165, 160, 175, 180, 185, \n",
    "                       175, 175, 165, 180, 175, 160]"
   ]
  },
  {
   "cell_type": "markdown",
   "id": "755c6137",
   "metadata": {},
   "source": [
    "areas affected by each hurricane"
   ]
  },
  {
   "cell_type": "code",
   "execution_count": 183,
   "id": "877d9672",
   "metadata": {},
   "outputs": [],
   "source": [
    "areas_affected = [['Central America', 'Mexico', 'Cuba', 'Florida', 'The Bahamas'],\n",
    "                  ['Lesser Antilles', 'The Bahamas', 'United States East Coast', 'Atlantic Canada'],\n",
    "                  ['The Bahamas', 'Northeastern United States'],\n",
    "                  ['Lesser Antilles', 'Jamaica', 'Cayman Islands', 'Cuba', 'The Bahamas', 'Bermuda'],\n",
    "                  ['The Bahamas', 'Cuba', 'Florida', 'Texas', 'Tamaulipas'],\n",
    "                  ['Jamaica', 'Yucatn Peninsula'], \n",
    "                  ['The Bahamas', 'Florida', 'Georgia', 'The Carolinas', 'Virginia'],\n",
    "                  ['Southeastern United States', 'Northeastern United States', 'Southwestern Quebec'],\n",
    "                  ['Bermuda', 'New England', 'Atlantic Canada'],\n",
    "                  ['Lesser Antilles', 'Central America'], \n",
    "                  ['Texas', 'Louisiana', 'Midwestern United States'],\n",
    "                  ['Central America'],\n",
    "                  ['The Caribbean', 'Mexico', 'Texas'],\n",
    "                  ['Cuba', 'United States Gulf Coast'], \n",
    "                  ['The Caribbean', 'Central America', 'Mexico', 'United States Gulf Coast'],\n",
    "                  ['Mexico'], ['The Caribbean', 'United States East coast'], \n",
    "                  ['The Caribbean', 'Yucatn Peninsula', 'Mexico', 'South Texas'], \n",
    "                  ['Jamaica', 'Venezuela', 'Central America', 'Hispaniola', 'Mexico'],\n",
    "                  ['The Caribbean', 'United States East Coast'], \n",
    "                  ['The Bahamas', 'Florida', 'United States Gulf Coast'], \n",
    "                  ['Central America', 'Yucatn Peninsula', 'South Florida'],\n",
    "                  ['Greater Antilles', 'Bahamas', 'Eastern United States', 'Ontario'],\n",
    "                  ['The Caribbean', 'Venezuela', 'United States Gulf Coast'],\n",
    "                  ['Windward Islands', 'Jamaica', 'Mexico', 'Texas'],\n",
    "                  ['Bahamas', 'United States Gulf Coast'],\n",
    "                  ['Cuba', 'United States Gulf Coast'], \n",
    "                  ['Greater Antilles', 'Central America', 'Florida'], \n",
    "                  ['The Caribbean', 'Central America'],\n",
    "                  ['Nicaragua', 'Honduras'], \n",
    "                  ['Antilles', 'Venezuela', 'Colombia', 'United States East Coast', 'Atlantic Canada'],\n",
    "                  ['Cape Verde', 'The Caribbean', 'British Virgin Islands', 'U.S. Virgin Islands', 'Cuba', 'Florida'],\n",
    "                  ['Lesser Antilles', 'Virgin Islands', 'Puerto Rico', 'Dominican Republic', 'Turks and Caicos Islands'], \n",
    "                  ['Central America', 'United States Gulf Coast (especially Florida Panhandle)']]"
   ]
  },
  {
   "cell_type": "markdown",
   "id": "717d219a",
   "metadata": {},
   "source": [
    "damages (USD($)) of hurricanes"
   ]
  },
  {
   "cell_type": "code",
   "execution_count": 184,
   "id": "17db42cd",
   "metadata": {},
   "outputs": [],
   "source": [
    "damages = ['Damages not recorded', '100M', 'Damages not recorded', '40M', '27.9M', '5M', \n",
    "           'Damages not recorded', '306M', '2M', '65.8M', '326M', '60.3M', '208M', '1.42B', \n",
    "           '25.4M', 'Damages not recorded', '1.54B', '1.24B', '7.1B', '10B', '26.5B', '6.2B',\n",
    "           '5.37B', '23.3B', '1.01B', '125B', '12B', '29.4B', '1.76B', '720M', '15.1B', '64.8B', \n",
    "           '91.6B', '25.1B']\n"
   ]
  },
  {
   "cell_type": "markdown",
   "id": "8d8af34a",
   "metadata": {},
   "source": [
    " deaths for each hurricane"
   ]
  },
  {
   "cell_type": "code",
   "execution_count": 185,
   "id": "65bf6130",
   "metadata": {},
   "outputs": [],
   "source": [
    "deaths = [90,4000,16,3103,179,184,408,682,5,1023,43,319,688,259,37,11,2068,269,318,107,65,19325,51,\n",
    "          124,17,1836,125,87,45,133,603,138,3057,74]"
   ]
  },
  {
   "cell_type": "markdown",
   "id": "bf7beb87",
   "metadata": {},
   "source": [
    "# Exercise 1"
   ]
  },
  {
   "cell_type": "markdown",
   "id": "0793bbc7",
   "metadata": {},
   "source": [
    "write your update damages function here:\n",
    "Write a function that returns a new list of updated damages \n",
    "where the recorded data is converted to float values and the missing \n",
    "data is retained as \"Damages not recorded\"."
   ]
  },
  {
   "cell_type": "code",
   "execution_count": 186,
   "id": "f759c2e2",
   "metadata": {
    "scrolled": false
   },
   "outputs": [
    {
     "name": "stdout",
     "output_type": "stream",
     "text": [
      "['Damages not recorded', 100000000.0, 'Damages not recorded', 40000000.0, 27900000.0, 5000000.0, 'Damages not recorded', 306000000.0, 2000000.0, 65800000.0, 326000000.0, 60300000.0, 208000000.0, 1420000000.0, 25400000.0, 'Damages not recorded', 1540000000.0, 1240000000.0, 7100000000.0, 10000000000.0, 26500000000.0, 6200000000.0, 5370000000.0, 23300000000.0, 1010000000.0, 125000000000.0, 12000000000.0, 29400000000.0, 1760000000.0, 720000000.0, 15100000000.0, 64800000000.0, 91600000000.0, 25100000000.0]\n"
     ]
    }
   ],
   "source": [
    "def list_str_to_float(test):\n",
    "  #iterando pela lista, ao invés de iterar pelos itens, eu vou iterar pelos índices, pra poder atribuir valores às posições chamando elas pelo índice\n",
    "    for i in range(len(test)):\n",
    "      #testanto para ver se o último caracter da string que está no índice i é 'M'\n",
    "      if test[i][-1] == 'M':\n",
    "        #Se for 'M', eu vou substituir a string, transformando os números que estão antes do M em float e multiplicando eles por milhão.\n",
    "        test[i] = float(test[i][:-1]) * 1000000\n",
    "      #agora eu vou testar pra ver se o último caracter da string no índice i é 'B'\n",
    "      elif test[i][-1] == 'B':\n",
    "        #a mesma coisa do 'M', porém agora eu multiplico por bilhão\n",
    "        test[i] = float(test[i][:-1]) * 1000000000\n",
    "      else: \n",
    "        #Se não for 'M' nem 'B', não faz nada nesta iteração e pula pra próxima\n",
    "        continue\n",
    "    #retorna a lista que nós modificamos\n",
    "    return test\n",
    "\n",
    "damages_float= list_str_to_float(damages)\n",
    "print(damages_float)"
   ]
  },
  {
   "cell_type": "markdown",
   "id": "61da0add",
   "metadata": {},
   "source": [
    "# Exercise 2"
   ]
  },
  {
   "cell_type": "markdown",
   "id": "69aa533d",
   "metadata": {},
   "source": [
    "write your construct hurricane dictionary function here:\n",
    "Write a function that constructs a dictionary made out of the lists,\n",
    "where the keys of the dictionary are the names of the hurricanes,\n",
    "and the values are dictionaries themselves containing a key for each\n",
    "piece of data (Name, Month, Year,Max Sustained Wind, Areas Affected, Damage, Death) \n",
    "about the hurricane."
   ]
  },
  {
   "cell_type": "code",
   "execution_count": 187,
   "id": "565107a3",
   "metadata": {},
   "outputs": [
    {
     "data": {
      "text/plain": [
       "{'Cuba I': {'Name': 'Cuba I',\n",
       "  'Month': 'October',\n",
       "  'Year': 1924,\n",
       "  'Max_Sustained_Wind': 165,\n",
       "  'Areas Affected': ['Central America',\n",
       "   'Mexico',\n",
       "   'Cuba',\n",
       "   'Florida',\n",
       "   'The Bahamas'],\n",
       "  'Damage': 'Damages not recorded',\n",
       "  'Deaths': 90},\n",
       " 'San Felipe II Okeechobee': {'Name': 'San Felipe II Okeechobee',\n",
       "  'Month': 'September',\n",
       "  'Year': 1928,\n",
       "  'Max_Sustained_Wind': 160,\n",
       "  'Areas Affected': ['Lesser Antilles',\n",
       "   'The Bahamas',\n",
       "   'United States East Coast',\n",
       "   'Atlantic Canada'],\n",
       "  'Damage': 100000000.0,\n",
       "  'Deaths': 4000},\n",
       " 'Bahamas': {'Name': 'Bahamas',\n",
       "  'Month': 'September',\n",
       "  'Year': 1932,\n",
       "  'Max_Sustained_Wind': 160,\n",
       "  'Areas Affected': ['The Bahamas', 'Northeastern United States'],\n",
       "  'Damage': 'Damages not recorded',\n",
       "  'Deaths': 16},\n",
       " 'Cuba II': {'Name': 'Cuba II',\n",
       "  'Month': 'November',\n",
       "  'Year': 1932,\n",
       "  'Max_Sustained_Wind': 175,\n",
       "  'Areas Affected': ['Lesser Antilles',\n",
       "   'Jamaica',\n",
       "   'Cayman Islands',\n",
       "   'Cuba',\n",
       "   'The Bahamas',\n",
       "   'Bermuda'],\n",
       "  'Damage': 40000000.0,\n",
       "  'Deaths': 3103},\n",
       " 'CubaBrownsville': {'Name': 'CubaBrownsville',\n",
       "  'Month': 'August',\n",
       "  'Year': 1933,\n",
       "  'Max_Sustained_Wind': 160,\n",
       "  'Areas Affected': ['The Bahamas', 'Cuba', 'Florida', 'Texas', 'Tamaulipas'],\n",
       "  'Damage': 27900000.0,\n",
       "  'Deaths': 179},\n",
       " 'Tampico': {'Name': 'Tampico',\n",
       "  'Month': 'September',\n",
       "  'Year': 1933,\n",
       "  'Max_Sustained_Wind': 160,\n",
       "  'Areas Affected': ['Jamaica', 'Yucatn Peninsula'],\n",
       "  'Damage': 5000000.0,\n",
       "  'Deaths': 184},\n",
       " 'Labor Day': {'Name': 'Labor Day',\n",
       "  'Month': 'September',\n",
       "  'Year': 1935,\n",
       "  'Max_Sustained_Wind': 185,\n",
       "  'Areas Affected': ['The Bahamas',\n",
       "   'Florida',\n",
       "   'Georgia',\n",
       "   'The Carolinas',\n",
       "   'Virginia'],\n",
       "  'Damage': 'Damages not recorded',\n",
       "  'Deaths': 408},\n",
       " 'New England': {'Name': 'New England',\n",
       "  'Month': 'September',\n",
       "  'Year': 1938,\n",
       "  'Max_Sustained_Wind': 160,\n",
       "  'Areas Affected': ['Southeastern United States',\n",
       "   'Northeastern United States',\n",
       "   'Southwestern Quebec'],\n",
       "  'Damage': 306000000.0,\n",
       "  'Deaths': 682},\n",
       " 'Carol': {'Name': 'Carol',\n",
       "  'Month': 'September',\n",
       "  'Year': 1953,\n",
       "  'Max_Sustained_Wind': 160,\n",
       "  'Areas Affected': ['Bermuda', 'New England', 'Atlantic Canada'],\n",
       "  'Damage': 2000000.0,\n",
       "  'Deaths': 5},\n",
       " 'Janet': {'Name': 'Janet',\n",
       "  'Month': 'September',\n",
       "  'Year': 1955,\n",
       "  'Max_Sustained_Wind': 175,\n",
       "  'Areas Affected': ['Lesser Antilles', 'Central America'],\n",
       "  'Damage': 65800000.0,\n",
       "  'Deaths': 1023},\n",
       " 'Carla': {'Name': 'Carla',\n",
       "  'Month': 'September',\n",
       "  'Year': 1961,\n",
       "  'Max_Sustained_Wind': 175,\n",
       "  'Areas Affected': ['Texas', 'Louisiana', 'Midwestern United States'],\n",
       "  'Damage': 326000000.0,\n",
       "  'Deaths': 43},\n",
       " 'Hattie': {'Name': 'Hattie',\n",
       "  'Month': 'October',\n",
       "  'Year': 1961,\n",
       "  'Max_Sustained_Wind': 160,\n",
       "  'Areas Affected': ['Central America'],\n",
       "  'Damage': 60300000.0,\n",
       "  'Deaths': 319},\n",
       " 'Beulah': {'Name': 'Beulah',\n",
       "  'Month': 'September',\n",
       "  'Year': 1967,\n",
       "  'Max_Sustained_Wind': 160,\n",
       "  'Areas Affected': ['The Caribbean', 'Mexico', 'Texas'],\n",
       "  'Damage': 208000000.0,\n",
       "  'Deaths': 688},\n",
       " 'Camille': {'Name': 'Camille',\n",
       "  'Month': 'August',\n",
       "  'Year': 1969,\n",
       "  'Max_Sustained_Wind': 175,\n",
       "  'Areas Affected': ['Cuba', 'United States Gulf Coast'],\n",
       "  'Damage': 1420000000.0,\n",
       "  'Deaths': 259},\n",
       " 'Edith': {'Name': 'Edith',\n",
       "  'Month': 'September',\n",
       "  'Year': 1971,\n",
       "  'Max_Sustained_Wind': 160,\n",
       "  'Areas Affected': ['The Caribbean',\n",
       "   'Central America',\n",
       "   'Mexico',\n",
       "   'United States Gulf Coast'],\n",
       "  'Damage': 25400000.0,\n",
       "  'Deaths': 37},\n",
       " 'Anita': {'Name': 'Anita',\n",
       "  'Month': 'September',\n",
       "  'Year': 1977,\n",
       "  'Max_Sustained_Wind': 175,\n",
       "  'Areas Affected': ['Mexico'],\n",
       "  'Damage': 'Damages not recorded',\n",
       "  'Deaths': 11},\n",
       " 'David': {'Name': 'David',\n",
       "  'Month': 'August',\n",
       "  'Year': 1979,\n",
       "  'Max_Sustained_Wind': 175,\n",
       "  'Areas Affected': ['The Caribbean', 'United States East coast'],\n",
       "  'Damage': 1540000000.0,\n",
       "  'Deaths': 2068},\n",
       " 'Allen': {'Name': 'Allen',\n",
       "  'Month': 'August',\n",
       "  'Year': 1980,\n",
       "  'Max_Sustained_Wind': 190,\n",
       "  'Areas Affected': ['The Caribbean',\n",
       "   'Yucatn Peninsula',\n",
       "   'Mexico',\n",
       "   'South Texas'],\n",
       "  'Damage': 1240000000.0,\n",
       "  'Deaths': 269},\n",
       " 'Gilbert': {'Name': 'Gilbert',\n",
       "  'Month': 'September',\n",
       "  'Year': 1988,\n",
       "  'Max_Sustained_Wind': 185,\n",
       "  'Areas Affected': ['Jamaica',\n",
       "   'Venezuela',\n",
       "   'Central America',\n",
       "   'Hispaniola',\n",
       "   'Mexico'],\n",
       "  'Damage': 7100000000.0,\n",
       "  'Deaths': 318},\n",
       " 'Hugo': {'Name': 'Hugo',\n",
       "  'Month': 'September',\n",
       "  'Year': 1989,\n",
       "  'Max_Sustained_Wind': 160,\n",
       "  'Areas Affected': ['The Caribbean', 'United States East Coast'],\n",
       "  'Damage': 10000000000.0,\n",
       "  'Deaths': 107},\n",
       " 'Andrew': {'Name': 'Andrew',\n",
       "  'Month': 'August',\n",
       "  'Year': 1992,\n",
       "  'Max_Sustained_Wind': 175,\n",
       "  'Areas Affected': ['The Bahamas', 'Florida', 'United States Gulf Coast'],\n",
       "  'Damage': 26500000000.0,\n",
       "  'Deaths': 65},\n",
       " 'Mitch': {'Name': 'Mitch',\n",
       "  'Month': 'October',\n",
       "  'Year': 1998,\n",
       "  'Max_Sustained_Wind': 180,\n",
       "  'Areas Affected': ['Central America', 'Yucatn Peninsula', 'South Florida'],\n",
       "  'Damage': 6200000000.0,\n",
       "  'Deaths': 19325},\n",
       " 'Isabel': {'Name': 'Isabel',\n",
       "  'Month': 'September',\n",
       "  'Year': 2003,\n",
       "  'Max_Sustained_Wind': 165,\n",
       "  'Areas Affected': ['Greater Antilles',\n",
       "   'Bahamas',\n",
       "   'Eastern United States',\n",
       "   'Ontario'],\n",
       "  'Damage': 5370000000.0,\n",
       "  'Deaths': 51},\n",
       " 'Ivan': {'Name': 'Ivan',\n",
       "  'Month': 'September',\n",
       "  'Year': 2004,\n",
       "  'Max_Sustained_Wind': 165,\n",
       "  'Areas Affected': ['The Caribbean', 'Venezuela', 'United States Gulf Coast'],\n",
       "  'Damage': 23300000000.0,\n",
       "  'Deaths': 124},\n",
       " 'Emily': {'Name': 'Emily',\n",
       "  'Month': 'July',\n",
       "  'Year': 2005,\n",
       "  'Max_Sustained_Wind': 160,\n",
       "  'Areas Affected': ['Windward Islands', 'Jamaica', 'Mexico', 'Texas'],\n",
       "  'Damage': 1010000000.0,\n",
       "  'Deaths': 17},\n",
       " 'Katrina': {'Name': 'Katrina',\n",
       "  'Month': 'August',\n",
       "  'Year': 2005,\n",
       "  'Max_Sustained_Wind': 175,\n",
       "  'Areas Affected': ['Bahamas', 'United States Gulf Coast'],\n",
       "  'Damage': 125000000000.0,\n",
       "  'Deaths': 1836},\n",
       " 'Rita': {'Name': 'Rita',\n",
       "  'Month': 'September',\n",
       "  'Year': 2005,\n",
       "  'Max_Sustained_Wind': 180,\n",
       "  'Areas Affected': ['Cuba', 'United States Gulf Coast'],\n",
       "  'Damage': 12000000000.0,\n",
       "  'Deaths': 125},\n",
       " 'Wilma': {'Name': 'Wilma',\n",
       "  'Month': 'October',\n",
       "  'Year': 2005,\n",
       "  'Max_Sustained_Wind': 185,\n",
       "  'Areas Affected': ['Greater Antilles', 'Central America', 'Florida'],\n",
       "  'Damage': 29400000000.0,\n",
       "  'Deaths': 87},\n",
       " 'Dean': {'Name': 'Dean',\n",
       "  'Month': 'August',\n",
       "  'Year': 2007,\n",
       "  'Max_Sustained_Wind': 175,\n",
       "  'Areas Affected': ['The Caribbean', 'Central America'],\n",
       "  'Damage': 1760000000.0,\n",
       "  'Deaths': 45},\n",
       " 'Felix': {'Name': 'Felix',\n",
       "  'Month': 'September',\n",
       "  'Year': 2007,\n",
       "  'Max_Sustained_Wind': 175,\n",
       "  'Areas Affected': ['Nicaragua', 'Honduras'],\n",
       "  'Damage': 720000000.0,\n",
       "  'Deaths': 133},\n",
       " 'Matthew': {'Name': 'Matthew',\n",
       "  'Month': 'October',\n",
       "  'Year': 2016,\n",
       "  'Max_Sustained_Wind': 165,\n",
       "  'Areas Affected': ['Antilles',\n",
       "   'Venezuela',\n",
       "   'Colombia',\n",
       "   'United States East Coast',\n",
       "   'Atlantic Canada'],\n",
       "  'Damage': 15100000000.0,\n",
       "  'Deaths': 603},\n",
       " 'Irma': {'Name': 'Irma',\n",
       "  'Month': 'September',\n",
       "  'Year': 2017,\n",
       "  'Max_Sustained_Wind': 180,\n",
       "  'Areas Affected': ['Cape Verde',\n",
       "   'The Caribbean',\n",
       "   'British Virgin Islands',\n",
       "   'U.S. Virgin Islands',\n",
       "   'Cuba',\n",
       "   'Florida'],\n",
       "  'Damage': 64800000000.0,\n",
       "  'Deaths': 138},\n",
       " 'Maria': {'Name': 'Maria',\n",
       "  'Month': 'September',\n",
       "  'Year': 2017,\n",
       "  'Max_Sustained_Wind': 175,\n",
       "  'Areas Affected': ['Lesser Antilles',\n",
       "   'Virgin Islands',\n",
       "   'Puerto Rico',\n",
       "   'Dominican Republic',\n",
       "   'Turks and Caicos Islands'],\n",
       "  'Damage': 91600000000.0,\n",
       "  'Deaths': 3057},\n",
       " 'Michael': {'Name': 'Michael',\n",
       "  'Month': 'October',\n",
       "  'Year': 2018,\n",
       "  'Max_Sustained_Wind': 160,\n",
       "  'Areas Affected': ['Central America',\n",
       "   'United States Gulf Coast (especially Florida Panhandle)'],\n",
       "  'Damage': 25100000000.0,\n",
       "  'Deaths': 74}}"
      ]
     },
     "execution_count": 187,
     "metadata": {},
     "output_type": "execute_result"
    }
   ],
   "source": [
    "def construct_dictionary(Name, Month, Year,Max_Sustained_Wind, Areas_Affected, Damage, Death):\n",
    "    hurricane_dict={}\n",
    "    \n",
    "    for i in range(len(Name)):\n",
    "        hurricane_dict[Name[i]]={\"Name\": Name[i],\n",
    "                                \"Month\": Month[i],\n",
    "                                \"Year\": Year[i],\n",
    "                                \"Max_Sustained_Wind\": Max_Sustained_Wind[i],\n",
    "                                \"Areas Affected\": Areas_Affected[i],\n",
    "                                \"Damage\": Damage[i],\n",
    "                                \"Deaths\": Death[i]}\n",
    "    return hurricane_dict\n",
    "\n",
    "hurricane_data= construct_dictionary(names,months,years, max_sustained_winds, areas_affected,damages_float, deaths)\n",
    "hurricane_data\n",
    "    "
   ]
  },
  {
   "cell_type": "markdown",
   "id": "0fb04aff",
   "metadata": {},
   "source": [
    "# Exercise 3"
   ]
  },
  {
   "cell_type": "markdown",
   "id": "32dca86b",
   "metadata": {},
   "source": [
    "Write a function that converts the current dictionary of hurricanes to a new dictionary, where the keys are years and the values are lists containing a dictionary for each hurricane that occurred in that year.\n",
    "write your construct hurricane by year dictionary function here:"
   ]
  },
  {
   "cell_type": "code",
   "execution_count": 188,
   "id": "72e00e19",
   "metadata": {},
   "outputs": [
    {
     "name": "stdout",
     "output_type": "stream",
     "text": [
      "{1924: [{'Name': 'Cuba I', 'Month': 'October', 'Year': 1924, 'Max_Sustained_Wind': 165, 'Areas Affected': ['Central America', 'Mexico', 'Cuba', 'Florida', 'The Bahamas'], 'Damage': 'Damages not recorded', 'Deaths': 90}], 1928: [{'Name': 'San Felipe II Okeechobee', 'Month': 'September', 'Year': 1928, 'Max_Sustained_Wind': 160, 'Areas Affected': ['Lesser Antilles', 'The Bahamas', 'United States East Coast', 'Atlantic Canada'], 'Damage': 100000000.0, 'Deaths': 4000}], 1932: [{'Name': 'Bahamas', 'Month': 'September', 'Year': 1932, 'Max_Sustained_Wind': 160, 'Areas Affected': ['The Bahamas', 'Northeastern United States'], 'Damage': 'Damages not recorded', 'Deaths': 16}, {'Name': 'Cuba II', 'Month': 'November', 'Year': 1932, 'Max_Sustained_Wind': 175, 'Areas Affected': ['Lesser Antilles', 'Jamaica', 'Cayman Islands', 'Cuba', 'The Bahamas', 'Bermuda'], 'Damage': 40000000.0, 'Deaths': 3103}], 1933: [{'Name': 'CubaBrownsville', 'Month': 'August', 'Year': 1933, 'Max_Sustained_Wind': 160, 'Areas Affected': ['The Bahamas', 'Cuba', 'Florida', 'Texas', 'Tamaulipas'], 'Damage': 27900000.0, 'Deaths': 179}, {'Name': 'Tampico', 'Month': 'September', 'Year': 1933, 'Max_Sustained_Wind': 160, 'Areas Affected': ['Jamaica', 'Yucatn Peninsula'], 'Damage': 5000000.0, 'Deaths': 184}], 1935: [{'Name': 'Labor Day', 'Month': 'September', 'Year': 1935, 'Max_Sustained_Wind': 185, 'Areas Affected': ['The Bahamas', 'Florida', 'Georgia', 'The Carolinas', 'Virginia'], 'Damage': 'Damages not recorded', 'Deaths': 408}], 1938: [{'Name': 'New England', 'Month': 'September', 'Year': 1938, 'Max_Sustained_Wind': 160, 'Areas Affected': ['Southeastern United States', 'Northeastern United States', 'Southwestern Quebec'], 'Damage': 306000000.0, 'Deaths': 682}], 1953: [{'Name': 'Carol', 'Month': 'September', 'Year': 1953, 'Max_Sustained_Wind': 160, 'Areas Affected': ['Bermuda', 'New England', 'Atlantic Canada'], 'Damage': 2000000.0, 'Deaths': 5}], 1955: [{'Name': 'Janet', 'Month': 'September', 'Year': 1955, 'Max_Sustained_Wind': 175, 'Areas Affected': ['Lesser Antilles', 'Central America'], 'Damage': 65800000.0, 'Deaths': 1023}], 1961: [{'Name': 'Carla', 'Month': 'September', 'Year': 1961, 'Max_Sustained_Wind': 175, 'Areas Affected': ['Texas', 'Louisiana', 'Midwestern United States'], 'Damage': 326000000.0, 'Deaths': 43}, {'Name': 'Hattie', 'Month': 'October', 'Year': 1961, 'Max_Sustained_Wind': 160, 'Areas Affected': ['Central America'], 'Damage': 60300000.0, 'Deaths': 319}], 1967: [{'Name': 'Beulah', 'Month': 'September', 'Year': 1967, 'Max_Sustained_Wind': 160, 'Areas Affected': ['The Caribbean', 'Mexico', 'Texas'], 'Damage': 208000000.0, 'Deaths': 688}], 1969: [{'Name': 'Camille', 'Month': 'August', 'Year': 1969, 'Max_Sustained_Wind': 175, 'Areas Affected': ['Cuba', 'United States Gulf Coast'], 'Damage': 1420000000.0, 'Deaths': 259}], 1971: [{'Name': 'Edith', 'Month': 'September', 'Year': 1971, 'Max_Sustained_Wind': 160, 'Areas Affected': ['The Caribbean', 'Central America', 'Mexico', 'United States Gulf Coast'], 'Damage': 25400000.0, 'Deaths': 37}], 1977: [{'Name': 'Anita', 'Month': 'September', 'Year': 1977, 'Max_Sustained_Wind': 175, 'Areas Affected': ['Mexico'], 'Damage': 'Damages not recorded', 'Deaths': 11}], 1979: [{'Name': 'David', 'Month': 'August', 'Year': 1979, 'Max_Sustained_Wind': 175, 'Areas Affected': ['The Caribbean', 'United States East coast'], 'Damage': 1540000000.0, 'Deaths': 2068}], 1980: [{'Name': 'Allen', 'Month': 'August', 'Year': 1980, 'Max_Sustained_Wind': 190, 'Areas Affected': ['The Caribbean', 'Yucatn Peninsula', 'Mexico', 'South Texas'], 'Damage': 1240000000.0, 'Deaths': 269}], 1988: [{'Name': 'Gilbert', 'Month': 'September', 'Year': 1988, 'Max_Sustained_Wind': 185, 'Areas Affected': ['Jamaica', 'Venezuela', 'Central America', 'Hispaniola', 'Mexico'], 'Damage': 7100000000.0, 'Deaths': 318}], 1989: [{'Name': 'Hugo', 'Month': 'September', 'Year': 1989, 'Max_Sustained_Wind': 160, 'Areas Affected': ['The Caribbean', 'United States East Coast'], 'Damage': 10000000000.0, 'Deaths': 107}], 1992: [{'Name': 'Andrew', 'Month': 'August', 'Year': 1992, 'Max_Sustained_Wind': 175, 'Areas Affected': ['The Bahamas', 'Florida', 'United States Gulf Coast'], 'Damage': 26500000000.0, 'Deaths': 65}], 1998: [{'Name': 'Mitch', 'Month': 'October', 'Year': 1998, 'Max_Sustained_Wind': 180, 'Areas Affected': ['Central America', 'Yucatn Peninsula', 'South Florida'], 'Damage': 6200000000.0, 'Deaths': 19325}], 2003: [{'Name': 'Isabel', 'Month': 'September', 'Year': 2003, 'Max_Sustained_Wind': 165, 'Areas Affected': ['Greater Antilles', 'Bahamas', 'Eastern United States', 'Ontario'], 'Damage': 5370000000.0, 'Deaths': 51}], 2004: [{'Name': 'Ivan', 'Month': 'September', 'Year': 2004, 'Max_Sustained_Wind': 165, 'Areas Affected': ['The Caribbean', 'Venezuela', 'United States Gulf Coast'], 'Damage': 23300000000.0, 'Deaths': 124}], 2005: [{'Name': 'Emily', 'Month': 'July', 'Year': 2005, 'Max_Sustained_Wind': 160, 'Areas Affected': ['Windward Islands', 'Jamaica', 'Mexico', 'Texas'], 'Damage': 1010000000.0, 'Deaths': 17}, {'Name': 'Katrina', 'Month': 'August', 'Year': 2005, 'Max_Sustained_Wind': 175, 'Areas Affected': ['Bahamas', 'United States Gulf Coast'], 'Damage': 125000000000.0, 'Deaths': 1836}, {'Name': 'Rita', 'Month': 'September', 'Year': 2005, 'Max_Sustained_Wind': 180, 'Areas Affected': ['Cuba', 'United States Gulf Coast'], 'Damage': 12000000000.0, 'Deaths': 125}, {'Name': 'Wilma', 'Month': 'October', 'Year': 2005, 'Max_Sustained_Wind': 185, 'Areas Affected': ['Greater Antilles', 'Central America', 'Florida'], 'Damage': 29400000000.0, 'Deaths': 87}], 2007: [{'Name': 'Dean', 'Month': 'August', 'Year': 2007, 'Max_Sustained_Wind': 175, 'Areas Affected': ['The Caribbean', 'Central America'], 'Damage': 1760000000.0, 'Deaths': 45}, {'Name': 'Felix', 'Month': 'September', 'Year': 2007, 'Max_Sustained_Wind': 175, 'Areas Affected': ['Nicaragua', 'Honduras'], 'Damage': 720000000.0, 'Deaths': 133}], 2016: [{'Name': 'Matthew', 'Month': 'October', 'Year': 2016, 'Max_Sustained_Wind': 165, 'Areas Affected': ['Antilles', 'Venezuela', 'Colombia', 'United States East Coast', 'Atlantic Canada'], 'Damage': 15100000000.0, 'Deaths': 603}], 2017: [{'Name': 'Irma', 'Month': 'September', 'Year': 2017, 'Max_Sustained_Wind': 180, 'Areas Affected': ['Cape Verde', 'The Caribbean', 'British Virgin Islands', 'U.S. Virgin Islands', 'Cuba', 'Florida'], 'Damage': 64800000000.0, 'Deaths': 138}, {'Name': 'Maria', 'Month': 'September', 'Year': 2017, 'Max_Sustained_Wind': 175, 'Areas Affected': ['Lesser Antilles', 'Virgin Islands', 'Puerto Rico', 'Dominican Republic', 'Turks and Caicos Islands'], 'Damage': 91600000000.0, 'Deaths': 3057}], 2018: [{'Name': 'Michael', 'Month': 'October', 'Year': 2018, 'Max_Sustained_Wind': 160, 'Areas Affected': ['Central America', 'United States Gulf Coast (especially Florida Panhandle)'], 'Damage': 25100000000.0, 'Deaths': 74}]}\n"
     ]
    }
   ],
   "source": [
    "def hurricane_dict_year(data):\n",
    "  by_year = {}\n",
    "#I'm iterating key, value thrrough the hurricane_data that in this function it's called data\n",
    "  for key, value in data.items(): #Basically, I'm separating key from the values. However I just want the years\n",
    "    current_year = value['Year'] #Here, I'm storaging each year from the data in a variable called current_year\n",
    "    current_value = value   #Here, I'm storage the value,meaning the whole dict (name, year, max wind...)\n",
    "\n",
    "    if current_year not in by_year.keys(): #Checking if the year we just storage it is not in our new dict. \n",
    "      by_year[current_year] = [current_value] #If not, then that year it will be a new key and we add the value\n",
    "      \n",
    "    else:\n",
    "      by_year[current_year].append(current_value) #In case, the year it's new, then we just added\n",
    "    \n",
    "\n",
    "  return by_year\n",
    "\n",
    "hurricane_data_by_year= hurricane_dict_year(hurricane_data)\n",
    "print (hurricane_data_by_year)"
   ]
  },
  {
   "cell_type": "markdown",
   "id": "dc4c8735",
   "metadata": {},
   "source": [
    "# Exercise 4"
   ]
  },
  {
   "cell_type": "markdown",
   "id": "9cbd7892",
   "metadata": {},
   "source": [
    "\n",
    "You believe that knowing how often each of the areas of the Atlantic are affected by these strong hurricanes is important for making preparations for future hurricanes.\n",
    "\n",
    "Write a function that counts how often each area is listed as an affected area of a hurricane. Store and return the results in a dictionary where the keys are the affected areas and the values are counts of how many times the areas were affected.\n",
    "\n",
    "Test your function on your hurricane dictionary.\n",
    "write your count affected areas function here:"
   ]
  },
  {
   "cell_type": "code",
   "execution_count": 189,
   "id": "8759e998",
   "metadata": {},
   "outputs": [
    {
     "data": {
      "text/plain": [
       "{'Central America': 64,\n",
       " 'Mexico': 46,\n",
       " 'Cuba': 61,\n",
       " 'Florida': 62,\n",
       " 'The Bahamas': 37,\n",
       " 'Lesser Antilles': 63,\n",
       " 'United States East Coast': 58,\n",
       " 'Atlantic Canada': 59,\n",
       " 'Northeastern United States': 13,\n",
       " 'Jamaica': 45,\n",
       " 'Cayman Islands': 4,\n",
       " 'Bermuda': 14,\n",
       " 'Texas': 47,\n",
       " 'Tamaulipas': 9,\n",
       " 'Yucatn Peninsula': 41,\n",
       " 'Georgia': 12,\n",
       " 'The Carolinas': 12,\n",
       " 'Virginia': 12,\n",
       " 'Southeastern United States': 12,\n",
       " 'Southwestern Quebec': 13,\n",
       " 'New England': 14,\n",
       " 'Louisiana': 18,\n",
       " 'Midwestern United States': 18,\n",
       " 'The Caribbean': 60,\n",
       " 'United States Gulf Coast': 51,\n",
       " 'United States East coast': 28,\n",
       " 'South Texas': 31,\n",
       " 'Venezuela': 57,\n",
       " 'Hispaniola': 33,\n",
       " 'South Florida': 41,\n",
       " 'Greater Antilles': 52,\n",
       " 'Bahamas': 48,\n",
       " 'Eastern United States': 41,\n",
       " 'Ontario': 41,\n",
       " 'Windward Islands': 44,\n",
       " 'Nicaragua': 56,\n",
       " 'Honduras': 56,\n",
       " 'Antilles': 56,\n",
       " 'Colombia': 57,\n",
       " 'Cape Verde': 59,\n",
       " 'British Virgin Islands': 60,\n",
       " 'U.S. Virgin Islands': 60,\n",
       " 'Virgin Islands': 63,\n",
       " 'Puerto Rico': 63,\n",
       " 'Dominican Republic': 63,\n",
       " 'Turks and Caicos Islands': 63,\n",
       " 'United States Gulf Coast (especially Florida Panhandle)': 64}"
      ]
     },
     "execution_count": 189,
     "metadata": {},
     "output_type": "execute_result"
    }
   ],
   "source": [
    "def count_hurricane(data):\n",
    "    count=1\n",
    "    hurricanes_by_area={}\n",
    "    for key,value in data.items():\n",
    "        for location in value[\"Areas Affected\"]:\n",
    "            if location not in hurricanes_by_area:\n",
    "                hurricanes_by_area[location]= count\n",
    "            else:\n",
    "                count +=1\n",
    "                hurricanes_by_area[location]= count\n",
    "    \n",
    "    return hurricanes_by_area\n",
    "\n",
    "    \n",
    "count_areas=count_hurricane(hurricane_data)\n",
    "count_areas"
   ]
  },
  {
   "cell_type": "markdown",
   "id": "c28fabab",
   "metadata": {},
   "source": [
    "# Exercise 5"
   ]
  },
  {
   "cell_type": "markdown",
   "id": "4a6071be",
   "metadata": {},
   "source": [
    "write your find most affected area function here:\n",
    "Write a function that finds the area affected by the most hurricanes, and how often it was hit.\n",
    "\n",
    "Test your function on your affected area dictionary.\n",
    " "
   ]
  },
  {
   "cell_type": "markdown",
   "id": "b4264214",
   "metadata": {},
   "source": [
    "#Another way to do it the same question.\n",
    "def most_affected(area_data):\n",
    "    count=0\n",
    "    count_affected={}\n",
    "    for key,value in area_data.items():\n",
    "        if value > count:\n",
    "            count = value\n",
    "            count_affected[key]= value\n",
    "            \n",
    "    return count_affected\n",
    "              \n",
    "area_affected = most_affected(count_areas)\n",
    "area_affected"
   ]
  },
  {
   "cell_type": "code",
   "execution_count": 190,
   "id": "6eb9f3e8",
   "metadata": {},
   "outputs": [
    {
     "name": "stdout",
     "output_type": "stream",
     "text": [
      "{'Central America': 64, 'United States Gulf Coast (especially Florida Panhandle)': 64}\n"
     ]
    }
   ],
   "source": [
    "def most_affected_fct(data):\n",
    "    max_affected= max(data.values())\n",
    "    most_area_affected = {key:value for key, value in data.items() if value == max_affected}\n",
    "    return most_area_affected\n",
    "\n",
    "area_affected = most_affected_fct(count_areas)\n",
    "print(area_affected)\n",
    "    "
   ]
  },
  {
   "cell_type": "markdown",
   "id": "f94f0314",
   "metadata": {},
   "source": [
    "# Exercise 6"
   ]
  },
  {
   "cell_type": "markdown",
   "id": "8607a565",
   "metadata": {},
   "source": [
    "Write a function that finds the hurricane that caused the greatest number of deaths, and how many deaths it caused.\n",
    "\n",
    "Write your greatest number of deaths function here:"
   ]
  },
  {
   "cell_type": "code",
   "execution_count": 191,
   "id": "f903edf9",
   "metadata": {},
   "outputs": [
    {
     "name": "stdout",
     "output_type": "stream",
     "text": [
      "('Mitch', 19325)\n"
     ]
    }
   ],
   "source": [
    "def greatest_death_fct(data):\n",
    "    death_hurricane_name=\"\"\n",
    "    count=0\n",
    "    for key,value in data.items():\n",
    "        if  value[\"Deaths\"]  > count:\n",
    "            death_hurricane_name = key\n",
    "            count =value[\"Deaths\"]\n",
    "    return death_hurricane_name, count\n",
    "            \n",
    "            \n",
    "            \n",
    "    #number_of_death= max(data.values(\"Deaths\"))\n",
    "    #hurricane_death= {key:value for key,value in data.items if value == number_of_death}\n",
    "    #return number_of_death\n",
    "\n",
    "deathly_hurricane= greatest_death_fct(hurricane_data)\n",
    "print (deathly_hurricane)"
   ]
  },
  {
   "cell_type": "markdown",
   "id": "5d0907e5",
   "metadata": {},
   "source": [
    "# Exercise 7"
   ]
  },
  {
   "cell_type": "markdown",
   "id": "9546c888",
   "metadata": {},
   "source": [
    "Write your catgeorize by mortality function here:\n",
    "\n",
    "Write a function that rates hurricanes on a mortality scale according to the \n",
    "following ratings, where the key is the rating and the value is the upper bound of deaths for that rating."
   ]
  },
  {
   "cell_type": "code",
   "execution_count": 192,
   "id": "8dc04b20",
   "metadata": {},
   "outputs": [
    {
     "name": "stdout",
     "output_type": "stream",
     "text": [
      "{1: ['Cuba I', 'Bahamas', 'Carol', 'Carla', 'Edith', 'Anita', 'Andrew', 'Isabel', 'Emily', 'Wilma', 'Dean', 'Michael'], 4: ['San Felipe II Okeechobee', 'Cuba II', 'Janet', 'David', 'Katrina', 'Maria'], 2: ['CubaBrownsville', 'Tampico', 'Labor Day', 'Hattie', 'Camille', 'Allen', 'Gilbert', 'Hugo', 'Ivan', 'Rita', 'Felix', 'Irma'], 3: ['New England', 'Beulah', 'Matthew'], 5: ['Mitch']}\n"
     ]
    }
   ],
   "source": [
    "def mortality_rate(data):\n",
    "    mortality_scale = {0: 0,\n",
    "                   1: 100,\n",
    "                   2: 500,\n",
    "                   3: 1000,\n",
    "                   4: 10000}\n",
    "    mort_ditc= {}\n",
    "    rate1=[]\n",
    "    rate2=[]\n",
    "    rate3=[]\n",
    "    rate4=[]\n",
    "    rate5=[]\n",
    "    for key,value in data.items():\n",
    "        \n",
    "                if value[\"Deaths\"]== 0:\n",
    "                    mort_ditc[0]=rate0.append(key)\n",
    "                    \n",
    "                elif value[\"Deaths\"] > 0 and value[\"Deaths\"]<100:\n",
    "                        if value[\"Deaths\"] not in mort_ditc:\n",
    "                            rate1.append(key)\n",
    "                            mort_ditc[1]=rate1\n",
    "                    \n",
    "                elif value[\"Deaths\"] >100 and value[\"Deaths\"]<500 and value[\"Deaths\"] not in mort_ditc:\n",
    "                    rate2.append(key)\n",
    "                    mort_ditc[2]=rate2\n",
    "                    \n",
    "                elif   value[\"Deaths\"] >500 and value[\"Deaths\"]<1000:  \n",
    "                    rate3.append(key)\n",
    "                    mort_ditc[3]= rate3\n",
    "\n",
    "                elif  value[\"Deaths\"] >1000 and value[\"Deaths\"]<10000:\n",
    "                    rate4.append(key)\n",
    "                    mort_ditc[4]=rate4\n",
    "                    \n",
    "                elif value[\"Deaths\"] > 10000 and value[\"Deaths\"] not in mort_ditc:\n",
    "                    rate5.append(key)\n",
    "                    mort_ditc[5]=rate5\n",
    "                \n",
    "                \n",
    "    return mort_ditc\n",
    "\n",
    "category_mortallity= mortality_rate(hurricane_data)\n",
    "print (category_mortallity)"
   ]
  },
  {
   "cell_type": "markdown",
   "id": "703d2717",
   "metadata": {},
   "source": [
    "# Exercise 8\n"
   ]
  },
  {
   "cell_type": "markdown",
   "id": "2cbc2139",
   "metadata": {},
   "source": [
    "Write a function that finds the hurricane that caused the greatest damage, and how costly it was.\n",
    "\n",
    "Test your function on your hurricane dictionary.\n",
    "Write your greatest damage function here:"
   ]
  },
  {
   "cell_type": "code",
   "execution_count": 193,
   "id": "49486516",
   "metadata": {},
   "outputs": [
    {
     "name": "stdout",
     "output_type": "stream",
     "text": [
      "('Michael', 125000000000.0)\n"
     ]
    }
   ],
   "source": [
    "def greatest_damage(data):\n",
    "    max_damage=0\n",
    "    \n",
    "    for key, value in data.items():\n",
    "        max_damage_cane = key\n",
    "        damage= value[\"Damage\"]\n",
    "        if not damage== \"Damages not recorded\": #This if is to exclude the string \"Damage not recorderd\"\n",
    "            if max_damage < damage: #Once we filtered that, we will compare the numbers.\n",
    "                 max_damage= damage#If the max_damage is not bigger than the damage iterate, we update our max_damage\n",
    "            else: #When finally our max_damage be bigger than damage we update the max_damage_cane which is the name of the hurricane \n",
    "                max_damage_cane = key\n",
    "       \n",
    "    return (max_damage_cane, max_damage) \n",
    "    \n",
    "    \n",
    "greatest_damage_hurricane= greatest_damage(hurricane_data)\n",
    "print (greatest_damage_hurricane)\n",
    "    "
   ]
  },
  {
   "cell_type": "markdown",
   "id": "fc0bad61",
   "metadata": {},
   "source": [
    "\n",
    "# Exercise 9"
   ]
  },
  {
   "cell_type": "markdown",
   "id": "46f4d80f",
   "metadata": {},
   "source": [
    "Lastly, you want to rate hurricanes according to how much damage they cause.\n",
    "\n",
    "Write a function that rates hurricanes on a damage scale according to the following ratings, where the key is the rating and the value is the upper bound of damage for that rating."
   ]
  },
  {
   "cell_type": "markdown",
   "id": "391887e3",
   "metadata": {},
   "source": [
    "write your catgeorize by damage function here:"
   ]
  },
  {
   "cell_type": "code",
   "execution_count": 194,
   "id": "1bef9be6",
   "metadata": {},
   "outputs": [
    {
     "name": "stdout",
     "output_type": "stream",
     "text": [
      "{1: ['San Felipe II Okeechobee', 'Cuba II', 'CubaBrownsville', 'Tampico', 'Carol', 'Janet', 'Hattie', 'Edith'], 2: ['New England', 'Carla', 'Beulah', 'Felix'], 3: ['Camille', 'David', 'Allen', 'Gilbert', 'Mitch', 'Isabel', 'Emily', 'Dean'], 4: ['Andrew', 'Ivan', 'Rita', 'Wilma', 'Matthew', 'Michael'], 5: ['Katrina', 'Irma', 'Maria']}\n"
     ]
    }
   ],
   "source": [
    "def category_financial_damage(data):\n",
    "    #The values of the dict below are USD\n",
    "    damage_scale = {0: 0,\n",
    "                1: 100000000,\n",
    "                2: 1000000000,\n",
    "                3: 10000000000,\n",
    "                4: 50000000000}\n",
    "    financial_dam_dict={ 1: [], 2: [], 3: [], 4: [], 5:[]}\n",
    "    for key,value in data.items():\n",
    "        hurricane_name=key\n",
    "        financial_dam= value[\"Damage\"]\n",
    "        if not financial_dam== \"Damages not recorded\": #This if is to exclude the string \"Damage not recorderd\"\n",
    "            #for rate, usd in damage_scale.items():\n",
    "                if financial_dam >0  and financial_dam <=100000000:\n",
    "                   financial_dam_dict[1].append(key)\n",
    "                if financial_dam > 100000000 and financial_dam<1000000000:\n",
    "                    financial_dam_dict[2].append(key)\n",
    "                if financial_dam >1000000000 and financial_dam < 10000000000:\n",
    "                    financial_dam_dict[3].append(key)\n",
    "                if financial_dam >10000000000 and financial_dam <=50000000000:\n",
    "                    financial_dam_dict[4].append(key)\n",
    "                if financial_dam > 50000000000:\n",
    "                    financial_dam_dict[5].append(key)\n",
    "\n",
    "\n",
    "\n",
    "\n",
    "    return financial_dam_dict\n",
    "                \n",
    "                \n",
    "\n",
    "        \n",
    "category_damage= category_financial_damage(hurricane_data)\n",
    "print(category_damage)\n"
   ]
  }
 ],
 "metadata": {
  "kernelspec": {
   "display_name": "Python 3 (ipykernel)",
   "language": "python",
   "name": "python3"
  },
  "language_info": {
   "codemirror_mode": {
    "name": "ipython",
    "version": 3
   },
   "file_extension": ".py",
   "mimetype": "text/x-python",
   "name": "python",
   "nbconvert_exporter": "python",
   "pygments_lexer": "ipython3",
   "version": "3.9.7"
  }
 },
 "nbformat": 4,
 "nbformat_minor": 5
}

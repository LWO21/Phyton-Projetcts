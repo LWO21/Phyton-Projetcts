{
 "cells": [
  {
   "cell_type": "code",
   "execution_count": null,
   "id": "2a8a47d4",
   "metadata": {},
   "outputs": [],
   "source": []
  },
  {
   "cell_type": "raw",
   "id": "da17dfc1",
   "metadata": {},
   "source": [
    "# names of hurricanes"
   ]
  },
  {
   "cell_type": "code",
   "execution_count": null,
   "id": "93c0b01e",
   "metadata": {},
   "outputs": [],
   "source": [
    "names = ['Cuba I', 'San Felipe II Okeechobee', 'Bahamas', 'Cuba II', \n",
    "         'CubaBrownsville', 'Tampico', 'Labor Day', 'New England', 'Carol',\n",
    "         'Janet', 'Carla', 'Hattie', 'Beulah', 'Camille', 'Edith', 'Anita', \n",
    "         'David', 'Allen', 'Gilbert', 'Hugo', 'Andrew', 'Mitch', 'Isabel', 'Ivan',\n",
    "         'Emily', 'Katrina', 'Rita', 'Wilma', 'Dean', 'Felix', 'Matthew', 'Irma', \n",
    "         'Maria', 'Michael']"
   ]
  },
  {
   "cell_type": "raw",
   "id": "d496f1f9",
   "metadata": {},
   "source": [
    "# months of hurricanes"
   ]
  },
  {
   "cell_type": "code",
   "execution_count": null,
   "id": "8cce78be",
   "metadata": {},
   "outputs": [],
   "source": [
    "months = ['October', 'September', 'September', 'November', 'August', 'September', \n",
    "          'September', 'September', 'September', 'September', 'September', 'October',\n",
    "          'September', 'August', 'September', 'September', 'August', 'August', 'September', \n",
    "          'September', 'August', 'October', 'September', 'September', 'July', 'August', 'September',\n",
    "          'October', 'August', 'September', 'October', 'September', 'September', 'October']"
   ]
  },
  {
   "cell_type": "raw",
   "id": "1d9129f6",
   "metadata": {},
   "source": [
    "# years of hurricanes"
   ]
  },
  {
   "cell_type": "code",
   "execution_count": null,
   "id": "a2f1a06a",
   "metadata": {},
   "outputs": [],
   "source": [
    "years = [1924, 1928, 1932, 1932, 1933, 1933, 1935, 1938, 1953, 1955, 1961, 1961, 1967, 1969, \n",
    "         1971, 1977, 1979, 1980, 1988, 1989, 1992, 1998, 2003, 2004, 2005, 2005, 2005, 2005, \n",
    "         2007, 2007, 2016, 2017, 2017, 2018]"
   ]
  },
  {
   "cell_type": "raw",
   "id": "6d44277b",
   "metadata": {},
   "source": [
    "# maximum sustained winds (mph) of hurricanes"
   ]
  },
  {
   "cell_type": "code",
   "execution_count": null,
   "id": "10a01d37",
   "metadata": {},
   "outputs": [],
   "source": [
    "max_sustained_winds = [165, 160, 160, 175, 160, 160, 185, 160, 160, 175, 175, 160, 160, 175, \n",
    "                       160, 175, 175, 190, 185, 160, 175, 180, 165, 165, 160, 175, 180, 185, \n",
    "                       175, 175, 165, 180, 175, 160]"
   ]
  },
  {
   "cell_type": "raw",
   "id": "62bf77a8",
   "metadata": {},
   "source": [
    "# areas affected by each hurricane"
   ]
  },
  {
   "cell_type": "code",
   "execution_count": null,
   "id": "877d9672",
   "metadata": {},
   "outputs": [],
   "source": [
    "areas_affected = [['Central America', 'Mexico', 'Cuba', 'Florida', 'The Bahamas'],\n",
    "                  ['Lesser Antilles', 'The Bahamas', 'United States East Coast', 'Atlantic Canada'],\n",
    "                  ['The Bahamas', 'Northeastern United States'],\n",
    "                  ['Lesser Antilles', 'Jamaica', 'Cayman Islands', 'Cuba', 'The Bahamas', 'Bermuda'],\n",
    "                  ['The Bahamas', 'Cuba', 'Florida', 'Texas', 'Tamaulipas'],\n",
    "                  ['Jamaica', 'Yucatn Peninsula'], \n",
    "                  ['The Bahamas', 'Florida', 'Georgia', 'The Carolinas', 'Virginia'],\n",
    "                  ['Southeastern United States', 'Northeastern United States', 'Southwestern Quebec'],\n",
    "                  ['Bermuda', 'New England', 'Atlantic Canada'],\n",
    "                  ['Lesser Antilles', 'Central America'], \n",
    "                  ['Texas', 'Louisiana', 'Midwestern United States'],\n",
    "                  ['Central America'],\n",
    "                  ['The Caribbean', 'Mexico', 'Texas'],\n",
    "                  ['Cuba', 'United States Gulf Coast'], \n",
    "                  ['The Caribbean', 'Central America', 'Mexico', 'United States Gulf Coast'],\n",
    "                  ['Mexico'], ['The Caribbean', 'United States East coast'], \n",
    "                  ['The Caribbean', 'Yucatn Peninsula', 'Mexico', 'South Texas'], \n",
    "                  ['Jamaica', 'Venezuela', 'Central America', 'Hispaniola', 'Mexico'],\n",
    "                  ['The Caribbean', 'United States East Coast'], \n",
    "                  ['The Bahamas', 'Florida', 'United States Gulf Coast'], \n",
    "                  ['Central America', 'Yucatn Peninsula', 'South Florida'],\n",
    "                  ['Greater Antilles', 'Bahamas', 'Eastern United States', 'Ontario'],\n",
    "                  ['The Caribbean', 'Venezuela', 'United States Gulf Coast'],\n",
    "                  ['Windward Islands', 'Jamaica', 'Mexico', 'Texas'],\n",
    "                  ['Bahamas', 'United States Gulf Coast'],\n",
    "                  ['Cuba', 'United States Gulf Coast'], \n",
    "                  ['Greater Antilles', 'Central America', 'Florida'], \n",
    "                  ['The Caribbean', 'Central America'],\n",
    "                  ['Nicaragua', 'Honduras'], \n",
    "                  ['Antilles', 'Venezuela', 'Colombia', 'United States East Coast', 'Atlantic Canada'],\n",
    "                  ['Cape Verde', 'The Caribbean', 'British Virgin Islands', 'U.S. Virgin Islands', 'Cuba', 'Florida'],\n",
    "                  ['Lesser Antilles', 'Virgin Islands', 'Puerto Rico', 'Dominican Republic', 'Turks and Caicos Islands'], \n",
    "                  ['Central America', 'United States Gulf Coast (especially Florida Panhandle)']]"
   ]
  },
  {
   "cell_type": "raw",
   "id": "fe64bd69",
   "metadata": {},
   "source": [
    "# damages (USD($)) of hurricanes"
   ]
  },
  {
   "cell_type": "code",
   "execution_count": 5,
   "id": "17db42cd",
   "metadata": {},
   "outputs": [
    {
     "data": {
      "text/plain": [
       "str"
      ]
     },
     "execution_count": 5,
     "metadata": {},
     "output_type": "execute_result"
    }
   ],
   "source": [
    "damages = ['Damages not recorded', '100M', 'Damages not recorded', '40M', '27.9M', '5M', \n",
    "           'Damages not recorded', '306M', '2M', '65.8M', '326M', '60.3M', '208M', '1.42B', \n",
    "           '25.4M', 'Damages not recorded', '1.54B', '1.24B', '7.1B', '10B', '26.5B', '6.2B',\n",
    "           '5.37B', '23.3B', '1.01B', '125B', '12B', '29.4B', '1.76B', '720M', '15.1B', '64.8B', \n",
    "           '91.6B', '25.1B']\n"
   ]
  },
  {
   "cell_type": "raw",
   "id": "f52d21b7",
   "metadata": {},
   "source": [
    "# deaths for each hurricane"
   ]
  },
  {
   "cell_type": "code",
   "execution_count": null,
   "id": "65bf6130",
   "metadata": {},
   "outputs": [],
   "source": [
    "deaths = [90,4000,16,3103,179,184,408,682,5,1023,43,319,688,259,37,11,2068,269,318,107,65,19325,51,\n",
    "          124,17,1836,125,87,45,133,603,138,3057,74]"
   ]
  },
  {
   "cell_type": "code",
   "execution_count": 2,
   "id": "8d3673e8",
   "metadata": {},
   "outputs": [],
   "source": [
    "# write your update damages function here:\n",
    "#Write a function that returns a new list of updated damages \n",
    "#where the recorded data is converted to float values and the missing \n",
    "#data is retained as \"Damages not recorded\"."
   ]
  },
  {
   "cell_type": "code",
   "execution_count": 43,
   "id": "d26446d4",
   "metadata": {
    "scrolled": false
   },
   "outputs": [
    {
     "ename": "SyntaxError",
     "evalue": "cannot assign to function call (1635195832.py, line 6)",
     "output_type": "error",
     "traceback": [
      "\u001b[0;36m  File \u001b[0;32m\"/var/folders/wd/yrwwb58d3md992vn3zjmmj0r0000gn/T/ipykernel_42505/1635195832.py\"\u001b[0;36m, line \u001b[0;32m6\u001b[0m\n\u001b[0;31m    damages_update(i) = test(i)*1000000\u001b[0m\n\u001b[0m    ^\u001b[0m\n\u001b[0;31mSyntaxError\u001b[0m\u001b[0;31m:\u001b[0m cannot assign to function call\n"
     ]
    }
   ],
   "source": [
    "def list_str_to_float(test):\n",
    "    damages_update=[]\n",
    "    for i in range(test):\n",
    "        damages_update.append(test(i))\n",
    "        if \"M\" in test(i):\n",
    "            damages_update(i) = test(i)*1000000\n",
    "    print(damages_update)\n",
    "    \n",
    "    #for each in test:\n",
    "     #   new_list.append(int((test[each])))\n",
    "    #return [float(x) for x in test]\n",
    "\n",
    "damges_float= list_str_to_float(damages)"
   ]
  },
  {
   "cell_type": "code",
   "execution_count": null,
   "id": "837da61c",
   "metadata": {},
   "outputs": [],
   "source": []
  },
  {
   "cell_type": "code",
   "execution_count": null,
   "id": "27d348d5",
   "metadata": {},
   "outputs": [],
   "source": []
  },
  {
   "cell_type": "code",
   "execution_count": null,
   "id": "08e71cb3",
   "metadata": {},
   "outputs": [],
   "source": []
  },
  {
   "cell_type": "code",
   "execution_count": null,
   "id": "1d5b0669",
   "metadata": {},
   "outputs": [],
   "source": []
  },
  {
   "cell_type": "code",
   "execution_count": null,
   "id": "5fe4a398",
   "metadata": {},
   "outputs": [],
   "source": [
    "# write your construct hurricane dictionary function here:\n",
    "\n",
    "\n",
    "\n",
    "\n",
    "\n",
    "\n",
    "\n",
    "\u001f"
   ]
  },
  {
   "cell_type": "code",
   "execution_count": null,
   "id": "90e46ee3",
   "metadata": {},
   "outputs": [],
   "source": [
    "# write your construct hurricane by year dictionary function here:"
   ]
  },
  {
   "cell_type": "code",
   "execution_count": null,
   "id": "194bc77f",
   "metadata": {},
   "outputs": [],
   "source": [
    "# write your count affected areas function here:"
   ]
  },
  {
   "cell_type": "code",
   "execution_count": null,
   "id": "807cb7a1",
   "metadata": {},
   "outputs": [],
   "source": [
    "# write your find most affected area function here:"
   ]
  },
  {
   "cell_type": "code",
   "execution_count": null,
   "id": "c5f7a2e3",
   "metadata": {},
   "outputs": [],
   "source": []
  },
  {
   "cell_type": "code",
   "execution_count": null,
   "id": "949c5b67",
   "metadata": {},
   "outputs": [],
   "source": [
    "# write your greatest number of deaths function here:"
   ]
  },
  {
   "cell_type": "code",
   "execution_count": null,
   "id": "98c3bee6",
   "metadata": {},
   "outputs": [],
   "source": [
    "# write your catgeorize by mortality function here:"
   ]
  },
  {
   "cell_type": "code",
   "execution_count": null,
   "id": "686fa346",
   "metadata": {},
   "outputs": [],
   "source": [
    "# write your greatest damage function here:"
   ]
  },
  {
   "cell_type": "code",
   "execution_count": null,
   "id": "b8be94cf",
   "metadata": {},
   "outputs": [],
   "source": [
    "# write your catgeorize by damage function here:"
   ]
  }
 ],
 "metadata": {
  "kernelspec": {
   "display_name": "Python 3 (ipykernel)",
   "language": "python",
   "name": "python3"
  },
  "language_info": {
   "codemirror_mode": {
    "name": "ipython",
    "version": 3
   },
   "file_extension": ".py",
   "mimetype": "text/x-python",
   "name": "python",
   "nbconvert_exporter": "python",
   "pygments_lexer": "ipython3",
   "version": "3.9.7"
  }
 },
 "nbformat": 4,
 "nbformat_minor": 5
}

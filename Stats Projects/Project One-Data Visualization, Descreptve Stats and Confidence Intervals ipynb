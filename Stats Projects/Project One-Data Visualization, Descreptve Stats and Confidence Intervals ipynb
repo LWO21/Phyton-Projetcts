{
 "cells": [
  {
   "cell_type": "markdown",
   "metadata": {},
   "source": [
    "# Project One: Data Visualization, Descriptive Statistics, Confidence Intervals\n",
    "\n",
    "This notebook contains the step-by-step directions for Project One. It is very important to run through the steps in order. Some steps depend on the outputs of earlier steps. Once you have completed the steps in this notebook, be sure to write your summary report. \n",
    "\n",
    "\n",
    "You are a data analyst for a basketball team and have access to a large set of historical data that you can use to analyze performance patterns. The coach of the team and your management have requested that you use descriptive statistics and data visualization techniques to study distributions of key performance metrics that are included in the data set. These data-driven analytics will help make key decisions to improve the performance of the team. You will use the Python programming language to perform the statistical analyses and then prepare a report of your findings to present for the team’s management. Since the managers are not data analysts, you will need to interpret your findings and describe their practical implications. \n",
    "\n",
    "\n",
    "There are four important variables in the data set that you will study in Project One. \n",
    "\n",
    "| <div style=\"text-align: left\"> Variable </div>  |   <div style=\"text-align: left\"> What does it represent? </div> |\n",
    "| -- | --  |\n",
    "| <div style=\"text-align: left\"> pts </div> | <div style=\"text-align: left\"> Points scored by the team in a game </div> |\n",
    "| <div style=\"text-align: left\"> elo_n </div> | <div style=\"text-align: left\"> A measure of the relative skill level of the team in the league </div> |\n",
    "| <div style=\"text-align: left\"> year_id </div> | <div style=\"text-align: left\"> Year when the team played the games </div> |\n",
    "| <div style=\"text-align: left\"> fran_id </div> | <div style=\"text-align: left\"> Name of the NBA team </div> |\n",
    "| <div style=\"text-align: left\"> game_location </div> | <div style=\"text-align: left\"> H=Home   A=Away </div> |\n",
    "\n",
    "\n",
    "The ELO rating, represented by the variable **elo_n**, is used as a measure of the relative skill of a team. This measure is inferred based on the final score of a game, the game location, and the outcome of the game relative to the probability of that outcome. The higher the number, the higher  the relative skill of a team.\n",
    "\n",
    "\n",
    "In addition to studying data on your own team, your management has assigned you a second team so that you can compare its performance with your own team's. \n",
    "\n",
    "| <div style=\"text-align: left\"> Team </div>  |   <div style=\"text-align: left\"> What does it represent? </div> |\n",
    "| -- | --  |\n",
    "| <div style=\"text-align: left\"> Your Team </div> | <div style=\"text-align: left\"> This is the team that has hired you as an analyst. This is the team that you will pick below. See Step 2.</div> |\n",
    "| <div style=\"text-align: left\"> Assigned Team </div> | <div style=\"text-align: left\"> This is the team that the management has assigned to you to compare against your team. See Step 1. </div> |\n",
    "\n",
    "\n",
    "Reminder: It may be beneficial to review the summary report template for Project One prior to starting this Python script. That will give you an idea of the questions you will need to answer with the outputs of this script.\n",
    "\n",
    "\n",
    "**--------------------------------------------------------------------------------------------------------------------------------------------------------------------------------------------------------**"
   ]
  },
  {
   "cell_type": "markdown",
   "metadata": {},
   "source": [
    "## Step 1: Data Preparation & the Assigned Team\n",
    "This step uploads the data set from a CSV file. It also selects the assigned team for this analysis. Do not make any changes to the code block below.\n",
    "\n",
    "1. The **assigned team** is the <font color='blue'><strong>Chicago Bulls</strong></font> from the years <font color='blue'><strong>1996-1998</strong> </font>\n",
    "\n",
    "Click the block of code below and hit the **Run** button above."
   ]
  },
  {
   "cell_type": "code",
   "execution_count": 6,
   "metadata": {},
   "outputs": [
    {
     "data": {
      "text/html": [
       "<table border=\"1\" class=\"dataframe\">\n",
       "  <thead>\n",
       "    <tr style=\"text-align: right;\">\n",
       "      <th></th>\n",
       "      <th>game_id</th>\n",
       "      <th>year_id</th>\n",
       "      <th>fran_id</th>\n",
       "      <th>pts</th>\n",
       "      <th>opp_pts</th>\n",
       "      <th>elo_n</th>\n",
       "      <th>opp_elo_n</th>\n",
       "      <th>game_location</th>\n",
       "      <th>game_result</th>\n",
       "    </tr>\n",
       "  </thead>\n",
       "  <tbody>\n",
       "    <tr>\n",
       "      <th>0</th>\n",
       "      <td>199511030CHI</td>\n",
       "      <td>1996</td>\n",
       "      <td>Bulls</td>\n",
       "      <td>105</td>\n",
       "      <td>91</td>\n",
       "      <td>1598.2924</td>\n",
       "      <td>1531.7449</td>\n",
       "      <td>H</td>\n",
       "      <td>W</td>\n",
       "    </tr>\n",
       "    <tr>\n",
       "      <th>1</th>\n",
       "      <td>199511040CHI</td>\n",
       "      <td>1996</td>\n",
       "      <td>Bulls</td>\n",
       "      <td>107</td>\n",
       "      <td>85</td>\n",
       "      <td>1604.3940</td>\n",
       "      <td>1458.6415</td>\n",
       "      <td>H</td>\n",
       "      <td>W</td>\n",
       "    </tr>\n",
       "    <tr>\n",
       "      <th>2</th>\n",
       "      <td>199511070CHI</td>\n",
       "      <td>1996</td>\n",
       "      <td>Bulls</td>\n",
       "      <td>117</td>\n",
       "      <td>108</td>\n",
       "      <td>1605.7983</td>\n",
       "      <td>1310.9349</td>\n",
       "      <td>H</td>\n",
       "      <td>W</td>\n",
       "    </tr>\n",
       "    <tr>\n",
       "      <th>3</th>\n",
       "      <td>199511090CLE</td>\n",
       "      <td>1996</td>\n",
       "      <td>Bulls</td>\n",
       "      <td>106</td>\n",
       "      <td>88</td>\n",
       "      <td>1618.8701</td>\n",
       "      <td>1452.8268</td>\n",
       "      <td>A</td>\n",
       "      <td>W</td>\n",
       "    </tr>\n",
       "    <tr>\n",
       "      <th>4</th>\n",
       "      <td>199511110CHI</td>\n",
       "      <td>1996</td>\n",
       "      <td>Bulls</td>\n",
       "      <td>110</td>\n",
       "      <td>106</td>\n",
       "      <td>1621.1591</td>\n",
       "      <td>1490.2861</td>\n",
       "      <td>H</td>\n",
       "      <td>W</td>\n",
       "    </tr>\n",
       "  </tbody>\n",
       "</table>"
      ],
      "text/plain": [
       "<IPython.core.display.HTML object>"
      ]
     },
     "metadata": {},
     "output_type": "display_data"
    },
    {
     "name": "stdout",
     "output_type": "stream",
     "text": [
      "printed only the first five observations...\n",
      "Number of rows in the data set = 246\n"
     ]
    }
   ],
   "source": [
    "import numpy as np\n",
    "import pandas as pd\n",
    "import scipy.stats as st\n",
    "import matplotlib.pyplot as plt\n",
    "from IPython.display import display, HTML\n",
    "\n",
    "nba_orig_df = pd.read_csv('nbaallelo.csv')\n",
    "nba_orig_df = nba_orig_df[(nba_orig_df['lg_id']=='NBA') & (nba_orig_df['is_playoffs']==0)]\n",
    "columns_to_keep = ['game_id','year_id','fran_id','pts','opp_pts','elo_n','opp_elo_n', 'game_location', 'game_result']\n",
    "nba_orig_df = nba_orig_df[columns_to_keep]\n",
    "\n",
    "# The dataframe for the assigned team is called assigned_team_df. \n",
    "# The assigned team is the Chicago Bulls from 1996-1998.\n",
    "assigned_years_league_df = nba_orig_df[(nba_orig_df['year_id'].between(1996, 1998))]\n",
    "assigned_team_df = assigned_years_league_df[(assigned_years_league_df['fran_id']=='Bulls')]\n",
    "assigned_team_df = assigned_team_df.reset_index(drop=True)\n",
    "\n",
    "display(HTML(assigned_team_df.head().to_html()))\n",
    "print(\"printed only the first five observations...\")\n",
    "print(\"Number of rows in the data set =\", len(assigned_team_df))"
   ]
  },
  {
   "cell_type": "code",
   "execution_count": null,
   "metadata": {},
   "outputs": [],
   "source": []
  },
  {
   "cell_type": "markdown",
   "metadata": {},
   "source": [
    " "
   ]
  },
  {
   "cell_type": "markdown",
   "metadata": {},
   "source": [
    "## Step 2: Pick Your Team\n",
    "In this step, you will pick your team. The range of years that you will study for your team is <font color='blue'><strong>2013-2015</strong></font>. Make the following edits to the code block below:\n",
    "\n",
    "1. <font color='red'> Replace <strong>??TEAM??</strong> with your choice of team from one of the following team names. </font>  \n",
    "<font color='blue'>*Bucks, Bulls, Cavaliers, Celtics, Clippers, Grizzlies, Hawks, Heat, Jazz, Kings, Knicks, Lakers, Magic, Mavericks, Nets, Nuggets, Pacers, Pelicans, Pistons, Raptors, Rockets, Sixers, Spurs, Suns, Thunder, Timberwolves, Trailblazers, Warriors, Wizards*</font>    \n",
    "Remember to enter the team name within single quotes. For example, if you picked the Suns, then ??TEAM?? should be replaced with 'Suns'.  \n",
    "\n",
    "After you are done with your edits, click the block of code below and hit the **Run** button above."
   ]
  },
  {
   "cell_type": "code",
   "execution_count": 7,
   "metadata": {},
   "outputs": [
    {
     "data": {
      "text/html": [
       "<table border=\"1\" class=\"dataframe\">\n",
       "  <thead>\n",
       "    <tr style=\"text-align: right;\">\n",
       "      <th></th>\n",
       "      <th>game_id</th>\n",
       "      <th>year_id</th>\n",
       "      <th>fran_id</th>\n",
       "      <th>pts</th>\n",
       "      <th>opp_pts</th>\n",
       "      <th>elo_n</th>\n",
       "      <th>opp_elo_n</th>\n",
       "      <th>game_location</th>\n",
       "      <th>game_result</th>\n",
       "    </tr>\n",
       "  </thead>\n",
       "  <tbody>\n",
       "    <tr>\n",
       "      <th>0</th>\n",
       "      <td>201210300MIA</td>\n",
       "      <td>2013</td>\n",
       "      <td>Celtics</td>\n",
       "      <td>107</td>\n",
       "      <td>120</td>\n",
       "      <td>1586.1121</td>\n",
       "      <td>1666.3193</td>\n",
       "      <td>A</td>\n",
       "      <td>L</td>\n",
       "    </tr>\n",
       "    <tr>\n",
       "      <th>1</th>\n",
       "      <td>201211020BOS</td>\n",
       "      <td>2013</td>\n",
       "      <td>Celtics</td>\n",
       "      <td>88</td>\n",
       "      <td>99</td>\n",
       "      <td>1566.8929</td>\n",
       "      <td>1520.3861</td>\n",
       "      <td>H</td>\n",
       "      <td>L</td>\n",
       "    </tr>\n",
       "    <tr>\n",
       "      <th>2</th>\n",
       "      <td>201211030WAS</td>\n",
       "      <td>2013</td>\n",
       "      <td>Celtics</td>\n",
       "      <td>89</td>\n",
       "      <td>86</td>\n",
       "      <td>1571.9491</td>\n",
       "      <td>1435.2531</td>\n",
       "      <td>A</td>\n",
       "      <td>W</td>\n",
       "    </tr>\n",
       "    <tr>\n",
       "      <th>3</th>\n",
       "      <td>201211070BOS</td>\n",
       "      <td>2013</td>\n",
       "      <td>Celtics</td>\n",
       "      <td>100</td>\n",
       "      <td>94</td>\n",
       "      <td>1574.5995</td>\n",
       "      <td>1432.6027</td>\n",
       "      <td>H</td>\n",
       "      <td>W</td>\n",
       "    </tr>\n",
       "    <tr>\n",
       "      <th>4</th>\n",
       "      <td>201211090BOS</td>\n",
       "      <td>2013</td>\n",
       "      <td>Celtics</td>\n",
       "      <td>100</td>\n",
       "      <td>106</td>\n",
       "      <td>1562.3982</td>\n",
       "      <td>1541.7600</td>\n",
       "      <td>H</td>\n",
       "      <td>L</td>\n",
       "    </tr>\n",
       "  </tbody>\n",
       "</table>"
      ],
      "text/plain": [
       "<IPython.core.display.HTML object>"
      ]
     },
     "metadata": {},
     "output_type": "display_data"
    },
    {
     "name": "stdout",
     "output_type": "stream",
     "text": [
      "printed only the first five observations...\n",
      "Number of rows in the data set = 245\n"
     ]
    }
   ],
   "source": [
    "# Range of years: 2013-2015 (Note: The line below selects ALL teams within the three-year period 2013-2015. This is not your team's dataframe.\n",
    "your_years_leagues_df = nba_orig_df[(nba_orig_df['year_id'].between(2013, 2015))]\n",
    "\n",
    "# The dataframe for your team is called your_team_df.\n",
    "# ---- TODO: make your edits here ----\n",
    "your_team_df = your_years_leagues_df[(your_years_leagues_df['fran_id']== 'Celtics')]\n",
    "your_team_df = your_team_df.reset_index(drop=True)\n",
    "\n",
    "display(HTML(your_team_df.head().to_html()))\n",
    "print(\"printed only the first five observations...\")\n",
    "print(\"Number of rows in the data set =\", len(your_team_df))"
   ]
  },
  {
   "cell_type": "markdown",
   "metadata": {},
   "source": [
    " "
   ]
  },
  {
   "cell_type": "markdown",
   "metadata": {},
   "source": [
    "## Step 3: Data Visualization: Points Scored by Your Team\n",
    "The coach has requested that you provide a visual that shows the distribution of points scored by your team in the years 2013-2015. The code below provides two possible options. Pick **ONE** of these two plots to include in your summary report. Choose the plot that you think provides the best visual for the distribution of points scored by your team. In your summary report, you must explain why you think your visual is the best choice.\n",
    "\n",
    "\n",
    "Click the block of code below and hit the **Run** button above.  \n",
    "NOTE: If the plots are not created, click the code section and hit the **Run** button again."
   ]
  },
  {
   "cell_type": "code",
   "execution_count": 4,
   "metadata": {},
   "outputs": [
    {
     "data": {
      "image/png": "[encoded data removed]",
      "text/plain": [
       "<Figure size 432x288 with 1 Axes>"
      ]
     },
     "metadata": {
      "needs_background": "light"
     },
     "output_type": "display_data"
    },
    {
     "name": "stdout",
     "output_type": "stream",
     "text": [
      "\n"
     ]
    },
    {
     "data": {
      "image/png": "[encoded data removed]",
      "text/plain": [
       "<Figure size 432x288 with 1 Axes>"
      ]
     },
     "metadata": {
      "needs_background": "light"
     },
     "output_type": "display_data"
    }
   ],
   "source": [
    "import seaborn as sns\n",
    "\n",
    "# Histogram\n",
    "fig, ax = plt.subplots()\n",
    "plt.hist(your_team_df['pts'], bins=20)\n",
    "plt.title('Histogram of points scored by Your Team in 2013 to 2015', fontsize=18)\n",
    "ax.set_xlabel('Points')\n",
    "ax.set_ylabel('Frequency')\n",
    "plt.show()\n",
    "print(\"\")\n",
    "\n",
    "# Scatterplot\n",
    "plt.title('Scatterplot of points scored by Your Team in 2013 to 2015', fontsize=18)\n",
    "sns.regplot(your_team_df['year_id'], your_team_df['pts'], ci=None)\n",
    "plt.show()"
   ]
  },
  {
   "cell_type": "markdown",
   "metadata": {},
   "source": [
    " "
   ]
  },
  {
   "cell_type": "markdown",
   "metadata": {},
   "source": [
    "## Step 4: Data Visualization: Points Scored by the Assigned Team\n",
    "The coach has also requested that you provide a visual that shows a distribution of points scored by the Bulls from years 1996-1998. The code below provides two possible options. Pick **ONE** of these two plots to include in your summary report. Choose the plot that you think provides the best visual for the distribution of points scored by your team. In your summary report, you will explain why you think your visual is the best choice.\n",
    "\n",
    "\n",
    "Click the block of code below and hit the **Run** button above.  \n",
    "NOTE: If the plots are not created, click the code section and hit the **Run** button again."
   ]
  },
  {
   "cell_type": "code",
   "execution_count": 5,
   "metadata": {},
   "outputs": [
    {
     "data": {
      "image/png": "[encoded data removed]",
      "text/plain": [
       "<Figure size 432x288 with 1 Axes>"
      ]
     },
     "metadata": {
      "needs_background": "light"
     },
     "output_type": "display_data"
    },
    {
     "data": {
      "image/png": "[encoded data removed]",
      "text/plain": [
       "<Figure size 432x288 with 1 Axes>"
      ]
     },
     "metadata": {
      "needs_background": "light"
     },
     "output_type": "display_data"
    }
   ],
   "source": [
    "import seaborn as sns\n",
    "\n",
    "# Histogram\n",
    "fig, ax = plt.subplots()\n",
    "plt.hist(assigned_team_df['pts'], bins=20)\n",
    "plt.title('Histogram of points scored by the Bulls in 1996 to 1998', fontsize=18)\n",
    "ax.set_xlabel('Points')\n",
    "ax.set_ylabel('Frequency')\n",
    "plt.show()\n",
    "\n",
    "# Scatterplot\n",
    "plt.title('Scatterplot of points scored by the Bulls in 1996 to 1998', fontsize=18)\n",
    "sns.regplot(assigned_team_df['year_id'], assigned_team_df['pts'], ci=None)\n",
    "plt.show()"
   ]
  },
  {
   "cell_type": "markdown",
   "metadata": {},
   "source": [
    " "
   ]
  },
  {
   "cell_type": "markdown",
   "metadata": {},
   "source": [
    "## Step 5: Data Visualization: Comparing the Two Teams\n",
    "Now the coach wants you to prepare one plot that provides a visual of the differences in the distribution of points scored by the assigned team and your team. The code below provides two possible visuals. Choose the plot that allows for the best comparison of the data distributions.\n",
    "\n",
    "\n",
    "Click the block of code below and hit the **Run** button above.  \n",
    "NOTE: If the plots are not created, click the code section and hit the **Run** button again."
   ]
  },
  {
   "cell_type": "code",
   "execution_count": 6,
   "metadata": {},
   "outputs": [
    {
     "data": {
      "image/png": "[encoded data removed]",
      "text/plain": [
       "<Figure size 432x288 with 1 Axes>"
      ]
     },
     "metadata": {
      "needs_background": "light"
     },
     "output_type": "display_data"
    },
    {
     "name": "stdout",
     "output_type": "stream",
     "text": [
      "\n"
     ]
    },
    {
     "data": {
      "image/png": "[encoded data removed]",
      "text/plain": [
       "<Figure size 432x288 with 1 Axes>"
      ]
     },
     "metadata": {
      "needs_background": "light"
     },
     "output_type": "display_data"
    }
   ],
   "source": [
    "import seaborn as sns\n",
    "\n",
    "# Side-by-side boxplots\n",
    "both_teams_df = pd.concat((assigned_team_df, your_team_df))\n",
    "plt.title('Boxplot to compare points distribution', fontsize=18) \n",
    "sns.boxplot(x='fran_id',y='pts',data=both_teams_df)\n",
    "plt.show()\n",
    "print(\"\")\n",
    "\n",
    "# Histograms\n",
    "fig, ax = plt.subplots()\n",
    "plt.hist(assigned_team_df['pts'], 20, alpha=0.5, label='Assigned Team')\n",
    "plt.hist(your_team_df['pts'], 20, alpha=0.5, label='Your Team')\n",
    "plt.title('Histogram to compare points distribution', fontsize=18) \n",
    "plt.xlabel('Points')\n",
    "plt.legend(loc='upper right')\n",
    "plt.show()"
   ]
  },
  {
   "cell_type": "markdown",
   "metadata": {},
   "source": [
    " "
   ]
  },
  {
   "cell_type": "markdown",
   "metadata": {},
   "source": [
    "## Step 6: Descriptive Statistics: Points Scored By Your Time in Home Games\n",
    "The management of your team wants you to run descriptive statistics on the points scored by your team in the games played at your team's venue in 2013-2015. Calculate descriptive statistics including the mean, median, variance, and standard deviation for points scored by your team played at Home. Make the following edits to the code block below:\n",
    "\n",
    "1. <font color='red'> Replace <strong>??MEAN_FUNCTION??</strong> with the name of Python function that calculates the mean. </font>\n",
    "2. <font color='red'> Replace <strong>??MEDIAN_FUNCTION??</strong> with the name of Python function that calculates the median. </font>\n",
    "3. <font color='red'> Replace <strong>??VAR_FUNCTION??</strong> with the name of Python function that calculates the variance. </font>\n",
    "4. <font color='red'> Replace <strong>??STD_FUNCTION??</strong> with the name of Python function that calculates the standard deviation. </font>\n",
    "\n",
    "After you are done with your edits, click the block of code below and hit the **Run** button above."
   ]
  },
  {
   "cell_type": "code",
   "execution_count": 10,
   "metadata": {},
   "outputs": [
    {
     "name": "stdout",
     "output_type": "stream",
     "text": [
      "Points Scored by Your Team in Home Games (2013 to 2015)\n",
      "-------------------------------------------------------\n",
      "Mean = 98.82\n",
      "Median = 99.5\n",
      "Variance = 107.67\n",
      "Standard Deviation = 10.38\n"
     ]
    }
   ],
   "source": [
    "print(\"Points Scored by Your Team in Home Games (2013 to 2015)\")\n",
    "print(\"-------------------------------------------------------\")\n",
    "\n",
    "your_team_home_df = your_team_df[your_team_df['game_location']=='H'].copy()\n",
    "\n",
    "# ---- TODO: make your edits here ----\n",
    "mean = your_team_home_df['pts'].mean()\n",
    "median = your_team_home_df['pts'].median()\n",
    "variance = your_team_home_df['pts'].var()\n",
    "stdeviation = your_team_home_df['pts'].std()\n",
    "\n",
    "print('Mean =', round(mean,2))\n",
    "print('Median =', round(median,2))\n",
    "print('Variance =', round(variance,2))\n",
    "print('Standard Deviation =', round(stdeviation,2))"
   ]
  },
  {
   "cell_type": "markdown",
   "metadata": {},
   "source": [
    " "
   ]
  },
  {
   "cell_type": "markdown",
   "metadata": {},
   "source": [
    "## Step 7 - Descriptive Statistics - Points Scored By Your Time in Away Games\n",
    "The management also wants you to run descriptive statistics on the points scored by your team in games played at opponent's venue (Away) in 2013-2015. They want you to analyze measures of central tendency (e.g. mean, median) and measures of spread (e.g. standard deviation) in explaining if the team is doing better in Home games compared to Away games. Calculate descriptive statistics including the mean, median, variance, and standard deviation for points scored by your team played in opponent's venue (Away). Make the following edits to the code block below: \n",
    "\n",
    "<font><strong>You are to write this code block yourself.</strong></font> \n",
    "\n",
    "Use Step 6 to help you write this code block. Here is some information that will help you write this code block.\n",
    "1. <font color='red'> Since you are calculating statistics for games played at opponent's venue, game_location variable should be set to 'A'. </font>\n",
    "2. <font color='red'> Functions for all statistics are the same as those in step 6. </font>\n",
    "3. <font color='red'> Your statistics should be rounded to two decimal places. </font>\n",
    "\n",
    "Write your code in the code block section below. After you are done, click this block of code and hit the **Run** button above. Reach out to your instructor if you need more help with this step."
   ]
  },
  {
   "cell_type": "code",
   "execution_count": 11,
   "metadata": {},
   "outputs": [
    {
     "name": "stdout",
     "output_type": "stream",
     "text": [
      "Points Scored by Your Team in Away Games (2013 to 2015)\n",
      "-------------------------------------------------------\n",
      "Mean = 97.28\n",
      "Median = 96.0\n",
      "Variance = 121.43\n",
      "Standard Deviation = 11.02\n"
     ]
    }
   ],
   "source": [
    "# Write your code in this code block. \n",
    "print(\"Points Scored by Your Team in Away Games (2013 to 2015)\")\n",
    "print(\"-------------------------------------------------------\")\n",
    "\n",
    "your_team_home_df = your_team_df[your_team_df['game_location']=='A'].copy()\n",
    "\n",
    "# ---- TODO: make your edits here ----\n",
    "mean_A = your_team_home_df['pts'].mean()\n",
    "median_A = your_team_home_df['pts'].median()\n",
    "variance_A = your_team_home_df['pts'].var()\n",
    "stdeviation_A = your_team_home_df['pts'].std()\n",
    "\n",
    "print('Mean =', round(mean_A,2))\n",
    "print('Median =', round(median_A,2))\n",
    "print('Variance =', round(variance_A,2))\n",
    "print('Standard Deviation =', round(stdeviation_A,2))\n"
   ]
  },
  {
   "cell_type": "markdown",
   "metadata": {},
   "source": [
    "## Step 8: Confidence Intervals for the Average Relative Skill of All Teams in Your Team's Years\n",
    "The management wants to you to calculate a 95% confidence interval for the average relative skill of all teams in 2013-2015. You will use the variable 'elo_n' to respresent the relative skill of the teams. To construct a confidence interval, you will need the mean and standard error of the relative skill level in these years. The code block below calculates the mean and the standard deviation. Your edits will calculate the standard error and the confidence interval. Make the following edits to the code block below:\n",
    "\n",
    "1. <font color='red'> Replace <strong>??SD_VARIABLE??</strong> with the variable name representing the standard deviation of relative skill of all teams from your years. </font> (Hint: the *standard deviation* variable is in the code block below)\n",
    "2. <font color='red'> Replace <strong>??CL??</strong> with the confidence level of the confidence interval. </font>\n",
    "3. <font color='red'> Replace <strong>??MEAN_VARIABLE??</strong> with the variable name representing the mean relative skill of all teams from your years. </font> (Hint: the *mean* variable is in the code block below)\n",
    "4. <font color='red'> Replace <strong>??SE_VARIABLE??</strong> with the variable name representing the standard error. </font> (Hint: the *standard error* variable is in the code block below)\n",
    "\n",
    "\n",
    "The management also wants you to calculate the probability that a team in the league has a relative skill level less than that of the team that you picked. Assuming that the relative skill of teams is Normally distributed, Python methods for a Normal distribution can be used to answer this question. The code block below uses two of these Python methods. Your task is to identify the correct Python method and report the probability. \n",
    "\n",
    "After you are done with your edits, click the block of code below and hit the **Run** button above."
   ]
  },
  {
   "cell_type": "code",
   "execution_count": 8,
   "metadata": {},
   "outputs": [
    {
     "name": "stdout",
     "output_type": "stream",
     "text": [
      "Confidence Interval for Average Relative Skill in the years 2013 to 2015\n",
      "------------------------------------------------------------------------------------------------------------\n",
      "95% confidence interval (unrounded) for Average Relative Skill (ELO) in the years 2013 to 2015 = (1502.0236894390478, 1507.1824625533618)\n",
      "95% confidence interval (rounded) for Average Relative Skill (ELO) in the years 2013 to 2015 = ( 1502.02 , 1507.18 )\n",
      "\n",
      "\n",
      "Probability a team has Average Relative Skill LESS than the Average Relative Skill (ELO) of your team in the years 2013 to 2015\n",
      "----------------------------------------------------------------------------------------------------------------------------------------------------------\n",
      "Which of the two choices is correct?\n",
      "Choice 1 = 0.6639\n",
      "Choice 2 = 0.3361\n"
     ]
    }
   ],
   "source": [
    "print(\"Confidence Interval for Average Relative Skill in the years 2013 to 2015\")\n",
    "print(\"------------------------------------------------------------------------------------------------------------\")\n",
    "\n",
    "# Mean relative skill of all teams from the years 2013-2015\n",
    "mean = your_years_leagues_df['elo_n'].mean()\n",
    "\n",
    "# Standard deviation of the relative skill of all teams from the years 2013-2015\n",
    "stdev = your_years_leagues_df['elo_n'].std()\n",
    "\n",
    "n = len(your_years_leagues_df)\n",
    "\n",
    "#Confidence interval\n",
    "# ---- TODO: make your edits here ----\n",
    "stderr = stdev/(n ** 0.5)\n",
    "conf_int_95 = st.norm.interval(0.95, mean, stderr)\n",
    "\n",
    "print(\"95% confidence interval (unrounded) for Average Relative Skill (ELO) in the years 2013 to 2015 =\", conf_int_95)\n",
    "print(\"95% confidence interval (rounded) for Average Relative Skill (ELO) in the years 2013 to 2015 = (\",  round(conf_int_95[0], 2),\",\", round(conf_int_95[1], 2),\")\")\n",
    "\n",
    "\n",
    "print(\"\\n\")\n",
    "print(\"Probability a team has Average Relative Skill LESS than the Average Relative Skill (ELO) of your team in the years 2013 to 2015\")\n",
    "print(\"----------------------------------------------------------------------------------------------------------------------------------------------------------\")\n",
    "\n",
    "mean_elo_your_team = your_team_df['elo_n'].mean()\n",
    "\n",
    "choice1 = st.norm.sf(mean_elo_your_team, mean, stdev)\n",
    "choice2 = st.norm.cdf(mean_elo_your_team, mean, stdev) #This option return the probability of Z being less or equal. \n",
    "\n",
    "# Pick the correct answer.\n",
    "print(\"Which of the two choices is correct?\")\n",
    "print(\"Choice 1 =\", round(choice1,4))\n",
    "print(\"Choice 2 =\", round(choice2,4))"
   ]
  },
  {
   "cell_type": "markdown",
   "metadata": {},
   "source": [
    "## Step 9 - Confidence Intervals  for the Average Relative Skill of All Teams in the Assigned Team's Years\n",
    "The management also wants to you to calculate a 95% confidence interval for the average relative skill of all teams in the years 1996-1998. Calculate this confidence interval. \n",
    "\n",
    "<font><strong>You are to write this code block yourself.</strong></font> \n",
    "\n",
    "Use Step 8 to help you write this code block. Here is some information that will help you write this code block. Reach out to your instructor if you need help.\n",
    "\n",
    "1. <font color='red'> The dataframe for the years 1996-1998 is called assigned_years_league_df </font>\n",
    "2. <font color='red'> The variable 'elo_n' represents the relative skill of teams. </font>\n",
    "3. <font color='red'> Start by calculating the mean and the standard deviation of relative skill (ELO) in years 1996-1998. </font>\n",
    "4. <font color='red'> Calculate n that represents the sample size. </font>\n",
    "5. <font color='red'> Calculate the standard error which is equal to the standard deviation of Relative Skill (ELO) divided by the square root of the sample size n. </font>\n",
    "6. <font color='red'>  Assuming that the population standard deviation is known, use Python methods for the Normal distribution to calculate the confidence interval. </font>\n",
    "7. <font color='red'> Your statistics should be rounded to two decimal places. </font>\n",
    "\n",
    "The management also wants you to calculate the probability that a team had a relative skill level less than the Bulls in years 1996-1998. Assuming that the relative skill of teams is Normally distributed, calculate this probability. \n",
    "\n",
    "<font><strong>You are to write this code block yourself.</strong></font> \n",
    "\n",
    "Use Step 8 to help you write this code block. Here is some information that will help you write this code block.\n",
    "\n",
    "1. <font color='red'> Calculate the mean relative skill of the Bulls. Note that the dataframe for the Bulls is called assigned_team_df. The variable 'elo_n' represents the relative skill. </font>\n",
    "2. <font color='red'> Use Python methods for a Normal distribution to calculate this probability. </font>\n",
    "3. <font color='red'> The probability value should be rounded to four decimal places. </font>\n",
    "\n",
    "\n",
    "Write your code in the code block section below. After you are done, click this block of code and hit the **Run** button above. Reach out to your instructor if you need more help with this step."
   ]
  },
  {
   "cell_type": "code",
   "execution_count": 12,
   "metadata": {},
   "outputs": [
    {
     "name": "stdout",
     "output_type": "stream",
     "text": [
      "Confidence Interval for Average Relative Skill in the years 1996 to 1998\n",
      "------------------------------------------------------------------------------------------------------------\n",
      "95% confidence interval (unrounded) for Average Relative Skill (ELO) in the years 1996 to 1998 = (1487.6565859527095, 1493.6465501840999)\n",
      "95% confidence interval (rounded) for Average Relative Skill (ELO) in the years 1996 to 1998 = ( 1487.66 , 1493.65 )\n",
      "\n",
      "\n",
      "Probability a team has Average Relative Skill LESS than the Average Relative Skill (ELO) of your team in the years 1996 to 1998\n",
      "----------------------------------------------------------------------------------------------------------------------------------------------------------\n",
      "Probability = 0.9732\n"
     ]
    }
   ],
   "source": [
    "# Write your code in this code block section\n",
    "print(\"Confidence Interval for Average Relative Skill in the years 1996 to 1998\")\n",
    "print(\"------------------------------------------------------------------------------------------------------------\")\n",
    "\n",
    "# Mean relative skill of all teams from the years 1996 to 1998\n",
    "mean_assigned_team_league = assigned_years_league_df['elo_n'].mean()\n",
    "\n",
    "# Standard deviation of the relative skill of all teams from the years 1996 to 1998\n",
    "stdev_assigned_years_league_df = assigned_years_league_df['elo_n'].std()\n",
    "\n",
    "n_assigned_team_league = len(assigned_years_league_df)\n",
    "\n",
    "#Confidence interval\n",
    "stderr_assigned_team_league = stdev_assigned_years_league_df/(n_assigned_team_league ** 0.5)\n",
    "conf_int_95_assigned_team_league = st.norm.interval(0.95, mean_assigned_team_league, stderr_assigned_team_league)\n",
    "\n",
    "print(\"95% confidence interval (unrounded) for Average Relative Skill (ELO) in the years 1996 to 1998 =\", conf_int_95_assigned_team_league)\n",
    "print(\"95% confidence interval (rounded) for Average Relative Skill (ELO) in the years 1996 to 1998 = (\",  round(conf_int_95_assigned_team_league[0], 2),\",\", round(conf_int_95_assigned_team_league[1], 2),\")\")\n",
    "\n",
    "\n",
    "print(\"\\n\")\n",
    "print(\"Probability a team has Average Relative Skill LESS than the Average Relative Skill (ELO) of your team in the years 1996 to 1998\")\n",
    "print(\"----------------------------------------------------------------------------------------------------------------------------------------------------------\")\n",
    "\n",
    "#Bull's ELO mean\n",
    "mean_elo_assigned_team= assigned_team_df['elo_n'].mean() \n",
    "\n",
    "probability = st.norm.cdf(mean_elo_assigned_team, mean_assigned_team_league, stdev_assigned_years_league_df) #This option return the probability of Z being less or equal. \n",
    "\n",
    "# Print the probability of a given team have an average skill being less or equal to the Bull'S TEAM\n",
    "print(\"Probability =\", round(probability,4))\n"
   ]
  },
  {
   "cell_type": "markdown",
   "metadata": {},
   "source": [
    "## End of Project One\n",
    "Download the HTML output and submit it with your summary report for Project One. The HTML output can be downloaded by clicking **File**, then **Download as**, then **HTML**. Do not include the Python code within your summary report."
   ]
  }
 ],
 "metadata": {
  "kernelspec": {
   "display_name": "Python 3",
   "language": "python",
   "name": "python3"
  },
  "language_info": {
   "codemirror_mode": {
    "name": "ipython",
    "version": 3
   },
   "file_extension": ".py",
   "mimetype": "text/x-python",
   "name": "python",
   "nbconvert_exporter": "python",
   "pygments_lexer": "ipython3",
   "version": "3.7.2"
  }
 },
 "nbformat": 4,
 "nbformat_minor": 2
}

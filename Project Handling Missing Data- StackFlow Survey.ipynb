{
 "cells": [
  {
   "cell_type": "markdown",
   "id": "c60f2268",
   "metadata": {},
   "source": [
    "## Project- Survey StackFlow"
   ]
  },
  {
   "cell_type": "code",
   "execution_count": 6,
   "id": "55ac3322",
   "metadata": {},
   "outputs": [
    {
     "name": "stdout",
     "output_type": "stream",
     "text": [
      "Index(['RespondentID', 'Year', 'Country', 'Employment', 'UndergradMajor',\n",
      "       'DevType', 'LanguageWorkedWith', 'LanguageDesireNextYear',\n",
      "       'DatabaseWorkedWith', 'DatabaseDesireNextYear', 'PlatformWorkedWith',\n",
      "       'PlatformDesireNextYear', 'Hobbyist', 'OrgSize', 'YearsCodePro',\n",
      "       'JobSeek', 'ConvertedComp', 'WorkWeekHrs', 'NEWJobHunt',\n",
      "       'NEWJobHuntResearch', 'NEWLearn'],\n",
      "      dtype='object')\n"
     ]
    },
    {
     "name": "stderr",
     "output_type": "stream",
     "text": [
      "/Users/luizotaviofariavitor/opt/anaconda3/lib/python3.9/site-packages/IPython/core/interactiveshell.py:3444: DtypeWarning: Columns (18,19,20) have mixed types.Specify dtype option on import or set low_memory=False.\n",
      "  exec(code_obj, self.user_global_ns, self.user_ns)\n"
     ]
    }
   ],
   "source": [
    "import pandas as pd\n",
    "\n",
    "df = pd.read_csv('developer_dataset.csv')\n",
    "\n",
    "print(df.columns)"
   ]
  },
  {
   "cell_type": "markdown",
   "id": "671b56aa",
   "metadata": {},
   "source": [
    "Now, we will analyze through an overview. Since this is a survey we should expect have blank spaces and are optional. We will use the method count()"
   ]
  },
  {
   "cell_type": "code",
   "execution_count": 12,
   "id": "6469e857",
   "metadata": {},
   "outputs": [
    {
     "data": {
      "text/plain": [
       "RespondentID              111209\n",
       "Year                      111209\n",
       "Country                   111209\n",
       "Employment                109425\n",
       "UndergradMajor             98453\n",
       "DevType                   100433\n",
       "LanguageWorkedWith        102018\n",
       "LanguageDesireNextYear     96044\n",
       "DatabaseWorkedWith         85859\n",
       "DatabaseDesireNextYear     74234\n",
       "PlatformWorkedWith         91609\n",
       "PlatformDesireNextYear     85376\n",
       "Hobbyist                   68352\n",
       "OrgSize                    54804\n",
       "YearsCodePro               94793\n",
       "JobSeek                    60556\n",
       "ConvertedComp              91333\n",
       "WorkWeekHrs                51089\n",
       "NEWJobHunt                 19127\n",
       "NEWJobHuntResearch         18683\n",
       "NEWLearn                   24226\n",
       "dtype: int64"
      ]
     },
     "execution_count": 12,
     "metadata": {},
     "output_type": "execute_result"
    }
   ],
   "source": [
    "df.count() "
   ]
  },
  {
   "cell_type": "markdown",
   "id": "f7ab8e78",
   "metadata": {},
   "source": [
    "Let's have a better statistical understanding of the data. Through describe m"
   ]
  },
  {
   "cell_type": "code",
   "execution_count": 16,
   "id": "31c60586",
   "metadata": {},
   "outputs": [
    {
     "data": {
      "text/html": [
       "<div>\n",
       "<style scoped>\n",
       "    .dataframe tbody tr th:only-of-type {\n",
       "        vertical-align: middle;\n",
       "    }\n",
       "\n",
       "    .dataframe tbody tr th {\n",
       "        vertical-align: top;\n",
       "    }\n",
       "\n",
       "    .dataframe thead th {\n",
       "        text-align: right;\n",
       "    }\n",
       "</style>\n",
       "<table border=\"1\" class=\"dataframe\">\n",
       "  <thead>\n",
       "    <tr style=\"text-align: right;\">\n",
       "      <th></th>\n",
       "      <th>RespondentID</th>\n",
       "      <th>Year</th>\n",
       "      <th>YearsCodePro</th>\n",
       "      <th>ConvertedComp</th>\n",
       "      <th>WorkWeekHrs</th>\n",
       "    </tr>\n",
       "  </thead>\n",
       "  <tbody>\n",
       "    <tr>\n",
       "      <th>count</th>\n",
       "      <td>111209.000000</td>\n",
       "      <td>111209.000000</td>\n",
       "      <td>94793.000000</td>\n",
       "      <td>9.133300e+04</td>\n",
       "      <td>51089.000000</td>\n",
       "    </tr>\n",
       "    <tr>\n",
       "      <th>mean</th>\n",
       "      <td>19262.039709</td>\n",
       "      <td>2018.854832</td>\n",
       "      <td>9.547045</td>\n",
       "      <td>1.251777e+05</td>\n",
       "      <td>41.051670</td>\n",
       "    </tr>\n",
       "    <tr>\n",
       "      <th>std</th>\n",
       "      <td>11767.011322</td>\n",
       "      <td>0.777503</td>\n",
       "      <td>7.548931</td>\n",
       "      <td>2.461218e+05</td>\n",
       "      <td>13.833929</td>\n",
       "    </tr>\n",
       "    <tr>\n",
       "      <th>min</th>\n",
       "      <td>1.000000</td>\n",
       "      <td>2018.000000</td>\n",
       "      <td>0.000000</td>\n",
       "      <td>0.000000e+00</td>\n",
       "      <td>1.000000</td>\n",
       "    </tr>\n",
       "    <tr>\n",
       "      <th>25%</th>\n",
       "      <td>9268.000000</td>\n",
       "      <td>2018.000000</td>\n",
       "      <td>4.000000</td>\n",
       "      <td>4.600000e+04</td>\n",
       "      <td>40.000000</td>\n",
       "    </tr>\n",
       "    <tr>\n",
       "      <th>50%</th>\n",
       "      <td>18535.000000</td>\n",
       "      <td>2019.000000</td>\n",
       "      <td>8.000000</td>\n",
       "      <td>7.900000e+04</td>\n",
       "      <td>40.000000</td>\n",
       "    </tr>\n",
       "    <tr>\n",
       "      <th>75%</th>\n",
       "      <td>28347.000000</td>\n",
       "      <td>2019.000000</td>\n",
       "      <td>14.000000</td>\n",
       "      <td>1.200000e+05</td>\n",
       "      <td>42.000000</td>\n",
       "    </tr>\n",
       "    <tr>\n",
       "      <th>max</th>\n",
       "      <td>42857.000000</td>\n",
       "      <td>2020.000000</td>\n",
       "      <td>50.000000</td>\n",
       "      <td>2.000000e+06</td>\n",
       "      <td>475.000000</td>\n",
       "    </tr>\n",
       "  </tbody>\n",
       "</table>\n",
       "</div>"
      ],
      "text/plain": [
       "        RespondentID           Year  YearsCodePro  ConvertedComp   WorkWeekHrs\n",
       "count  111209.000000  111209.000000  94793.000000   9.133300e+04  51089.000000\n",
       "mean    19262.039709    2018.854832      9.547045   1.251777e+05     41.051670\n",
       "std     11767.011322       0.777503      7.548931   2.461218e+05     13.833929\n",
       "min         1.000000    2018.000000      0.000000   0.000000e+00      1.000000\n",
       "25%      9268.000000    2018.000000      4.000000   4.600000e+04     40.000000\n",
       "50%     18535.000000    2019.000000      8.000000   7.900000e+04     40.000000\n",
       "75%     28347.000000    2019.000000     14.000000   1.200000e+05     42.000000\n",
       "max     42857.000000    2020.000000     50.000000   2.000000e+06    475.000000"
      ]
     },
     "execution_count": 16,
     "metadata": {},
     "output_type": "execute_result"
    }
   ],
   "source": [
    "df.describe()"
   ]
  },
  {
   "cell_type": "markdown",
   "id": "658b57cf",
   "metadata": {},
   "source": [
    "Now, we want to see how much missing data we have, following select the columns who had more or equal 60% of missing data"
   ]
  },
  {
   "cell_type": "code",
   "execution_count": 30,
   "id": "97e34be2",
   "metadata": {},
   "outputs": [
    {
     "name": "stdout",
     "output_type": "stream",
     "text": [
      "%Missing Data:\n",
      "RespondentID               0.000000\n",
      "Year                       0.000000\n",
      "Country                    0.000000\n",
      "Employment                 1.604187\n",
      "UndergradMajor            11.470295\n",
      "DevType                    9.689863\n",
      "LanguageWorkedWith         8.264619\n",
      "LanguageDesireNextYear    13.636486\n",
      "DatabaseWorkedWith        22.794918\n",
      "DatabaseDesireNextYear    33.248208\n",
      "PlatformWorkedWith        17.624473\n",
      "PlatformDesireNextYear    23.229235\n",
      "Hobbyist                  38.537349\n",
      "OrgSize                   50.719816\n",
      "YearsCodePro              14.761395\n",
      "JobSeek                   45.547573\n",
      "ConvertedComp             17.872654\n",
      "WorkWeekHrs               54.060373\n",
      "NEWJobHunt                82.800852\n",
      "NEWJobHuntResearch        83.200101\n",
      "NEWLearn                  78.215792\n",
      "dtype: float64\n"
     ]
    }
   ],
   "source": [
    "maxrow = df['RespondentID'].count() # We will count how many rows RespondentID has, since anyone that has filled\n",
    "                                    #a survey has an ID, eventhough they had not filled all the survey\n",
    "\n",
    "print('%Missing Data:')\n",
    "print((1-df.count()/maxrow) *100)"
   ]
  },
  {
   "cell_type": "markdown",
   "id": "dbeb5c94",
   "metadata": {},
   "source": [
    "Based on those percentages, it's safe to remove the follwing columns:\n",
    "\n",
    "NEWJobHunt                82.800852\n",
    "\n",
    "NEWJobHuntResearch        83.200101\n",
    "\n",
    "NEWLearn                  78.215792\n",
    "\n",
    "We will utilize the pandas method .drop([columns], axis=1, inplace =True)"
   ]
  },
  {
   "cell_type": "code",
   "execution_count": 42,
   "id": "b3100bfb",
   "metadata": {},
   "outputs": [
    {
     "ename": "KeyError",
     "evalue": "\"['NEWJobHunt' 'NEWJobHuntResearch' 'NEWLearn'] not found in axis\"",
     "output_type": "error",
     "traceback": [
      "\u001b[0;31m---------------------------------------------------------------------------\u001b[0m",
      "\u001b[0;31mKeyError\u001b[0m                                  Traceback (most recent call last)",
      "\u001b[0;32m/var/folders/wd/yrwwb58d3md992vn3zjmmj0r0000gn/T/ipykernel_55680/3195283206.py\u001b[0m in \u001b[0;36m<module>\u001b[0;34m\u001b[0m\n\u001b[0;32m----> 1\u001b[0;31m df.drop(['NEWJobHunt','NEWJobHuntResearch','NEWLearn'],\n\u001b[0m\u001b[1;32m      2\u001b[0m     \u001b[0maxis\u001b[0m\u001b[0;34m=\u001b[0m\u001b[0;36m1\u001b[0m\u001b[0;34m,\u001b[0m\u001b[0;34m\u001b[0m\u001b[0;34m\u001b[0m\u001b[0m\n\u001b[1;32m      3\u001b[0m     inplace=True)\n",
      "\u001b[0;32m~/opt/anaconda3/lib/python3.9/site-packages/pandas/util/_decorators.py\u001b[0m in \u001b[0;36mwrapper\u001b[0;34m(*args, **kwargs)\u001b[0m\n\u001b[1;32m    309\u001b[0m                     \u001b[0mstacklevel\u001b[0m\u001b[0;34m=\u001b[0m\u001b[0mstacklevel\u001b[0m\u001b[0;34m,\u001b[0m\u001b[0;34m\u001b[0m\u001b[0;34m\u001b[0m\u001b[0m\n\u001b[1;32m    310\u001b[0m                 )\n\u001b[0;32m--> 311\u001b[0;31m             \u001b[0;32mreturn\u001b[0m \u001b[0mfunc\u001b[0m\u001b[0;34m(\u001b[0m\u001b[0;34m*\u001b[0m\u001b[0margs\u001b[0m\u001b[0;34m,\u001b[0m \u001b[0;34m**\u001b[0m\u001b[0mkwargs\u001b[0m\u001b[0;34m)\u001b[0m\u001b[0;34m\u001b[0m\u001b[0;34m\u001b[0m\u001b[0m\n\u001b[0m\u001b[1;32m    312\u001b[0m \u001b[0;34m\u001b[0m\u001b[0m\n\u001b[1;32m    313\u001b[0m         \u001b[0;32mreturn\u001b[0m \u001b[0mwrapper\u001b[0m\u001b[0;34m\u001b[0m\u001b[0;34m\u001b[0m\u001b[0m\n",
      "\u001b[0;32m~/opt/anaconda3/lib/python3.9/site-packages/pandas/core/frame.py\u001b[0m in \u001b[0;36mdrop\u001b[0;34m(self, labels, axis, index, columns, level, inplace, errors)\u001b[0m\n\u001b[1;32m   4904\u001b[0m                 \u001b[0mweight\u001b[0m  \u001b[0;36m1.0\u001b[0m     \u001b[0;36m0.8\u001b[0m\u001b[0;34m\u001b[0m\u001b[0;34m\u001b[0m\u001b[0m\n\u001b[1;32m   4905\u001b[0m         \"\"\"\n\u001b[0;32m-> 4906\u001b[0;31m         return super().drop(\n\u001b[0m\u001b[1;32m   4907\u001b[0m             \u001b[0mlabels\u001b[0m\u001b[0;34m=\u001b[0m\u001b[0mlabels\u001b[0m\u001b[0;34m,\u001b[0m\u001b[0;34m\u001b[0m\u001b[0;34m\u001b[0m\u001b[0m\n\u001b[1;32m   4908\u001b[0m             \u001b[0maxis\u001b[0m\u001b[0;34m=\u001b[0m\u001b[0maxis\u001b[0m\u001b[0;34m,\u001b[0m\u001b[0;34m\u001b[0m\u001b[0;34m\u001b[0m\u001b[0m\n",
      "\u001b[0;32m~/opt/anaconda3/lib/python3.9/site-packages/pandas/core/generic.py\u001b[0m in \u001b[0;36mdrop\u001b[0;34m(self, labels, axis, index, columns, level, inplace, errors)\u001b[0m\n\u001b[1;32m   4148\u001b[0m         \u001b[0;32mfor\u001b[0m \u001b[0maxis\u001b[0m\u001b[0;34m,\u001b[0m \u001b[0mlabels\u001b[0m \u001b[0;32min\u001b[0m \u001b[0maxes\u001b[0m\u001b[0;34m.\u001b[0m\u001b[0mitems\u001b[0m\u001b[0;34m(\u001b[0m\u001b[0;34m)\u001b[0m\u001b[0;34m:\u001b[0m\u001b[0;34m\u001b[0m\u001b[0;34m\u001b[0m\u001b[0m\n\u001b[1;32m   4149\u001b[0m             \u001b[0;32mif\u001b[0m \u001b[0mlabels\u001b[0m \u001b[0;32mis\u001b[0m \u001b[0;32mnot\u001b[0m \u001b[0;32mNone\u001b[0m\u001b[0;34m:\u001b[0m\u001b[0;34m\u001b[0m\u001b[0;34m\u001b[0m\u001b[0m\n\u001b[0;32m-> 4150\u001b[0;31m                 \u001b[0mobj\u001b[0m \u001b[0;34m=\u001b[0m \u001b[0mobj\u001b[0m\u001b[0;34m.\u001b[0m\u001b[0m_drop_axis\u001b[0m\u001b[0;34m(\u001b[0m\u001b[0mlabels\u001b[0m\u001b[0;34m,\u001b[0m \u001b[0maxis\u001b[0m\u001b[0;34m,\u001b[0m \u001b[0mlevel\u001b[0m\u001b[0;34m=\u001b[0m\u001b[0mlevel\u001b[0m\u001b[0;34m,\u001b[0m \u001b[0merrors\u001b[0m\u001b[0;34m=\u001b[0m\u001b[0merrors\u001b[0m\u001b[0;34m)\u001b[0m\u001b[0;34m\u001b[0m\u001b[0;34m\u001b[0m\u001b[0m\n\u001b[0m\u001b[1;32m   4151\u001b[0m \u001b[0;34m\u001b[0m\u001b[0m\n\u001b[1;32m   4152\u001b[0m         \u001b[0;32mif\u001b[0m \u001b[0minplace\u001b[0m\u001b[0;34m:\u001b[0m\u001b[0;34m\u001b[0m\u001b[0;34m\u001b[0m\u001b[0m\n",
      "\u001b[0;32m~/opt/anaconda3/lib/python3.9/site-packages/pandas/core/generic.py\u001b[0m in \u001b[0;36m_drop_axis\u001b[0;34m(self, labels, axis, level, errors)\u001b[0m\n\u001b[1;32m   4183\u001b[0m                 \u001b[0mnew_axis\u001b[0m \u001b[0;34m=\u001b[0m \u001b[0maxis\u001b[0m\u001b[0;34m.\u001b[0m\u001b[0mdrop\u001b[0m\u001b[0;34m(\u001b[0m\u001b[0mlabels\u001b[0m\u001b[0;34m,\u001b[0m \u001b[0mlevel\u001b[0m\u001b[0;34m=\u001b[0m\u001b[0mlevel\u001b[0m\u001b[0;34m,\u001b[0m \u001b[0merrors\u001b[0m\u001b[0;34m=\u001b[0m\u001b[0merrors\u001b[0m\u001b[0;34m)\u001b[0m\u001b[0;34m\u001b[0m\u001b[0;34m\u001b[0m\u001b[0m\n\u001b[1;32m   4184\u001b[0m             \u001b[0;32melse\u001b[0m\u001b[0;34m:\u001b[0m\u001b[0;34m\u001b[0m\u001b[0;34m\u001b[0m\u001b[0m\n\u001b[0;32m-> 4185\u001b[0;31m                 \u001b[0mnew_axis\u001b[0m \u001b[0;34m=\u001b[0m \u001b[0maxis\u001b[0m\u001b[0;34m.\u001b[0m\u001b[0mdrop\u001b[0m\u001b[0;34m(\u001b[0m\u001b[0mlabels\u001b[0m\u001b[0;34m,\u001b[0m \u001b[0merrors\u001b[0m\u001b[0;34m=\u001b[0m\u001b[0merrors\u001b[0m\u001b[0;34m)\u001b[0m\u001b[0;34m\u001b[0m\u001b[0;34m\u001b[0m\u001b[0m\n\u001b[0m\u001b[1;32m   4186\u001b[0m             \u001b[0mresult\u001b[0m \u001b[0;34m=\u001b[0m \u001b[0mself\u001b[0m\u001b[0;34m.\u001b[0m\u001b[0mreindex\u001b[0m\u001b[0;34m(\u001b[0m\u001b[0;34m**\u001b[0m\u001b[0;34m{\u001b[0m\u001b[0maxis_name\u001b[0m\u001b[0;34m:\u001b[0m \u001b[0mnew_axis\u001b[0m\u001b[0;34m}\u001b[0m\u001b[0;34m)\u001b[0m\u001b[0;34m\u001b[0m\u001b[0;34m\u001b[0m\u001b[0m\n\u001b[1;32m   4187\u001b[0m \u001b[0;34m\u001b[0m\u001b[0m\n",
      "\u001b[0;32m~/opt/anaconda3/lib/python3.9/site-packages/pandas/core/indexes/base.py\u001b[0m in \u001b[0;36mdrop\u001b[0;34m(self, labels, errors)\u001b[0m\n\u001b[1;32m   6015\u001b[0m         \u001b[0;32mif\u001b[0m \u001b[0mmask\u001b[0m\u001b[0;34m.\u001b[0m\u001b[0many\u001b[0m\u001b[0;34m(\u001b[0m\u001b[0;34m)\u001b[0m\u001b[0;34m:\u001b[0m\u001b[0;34m\u001b[0m\u001b[0;34m\u001b[0m\u001b[0m\n\u001b[1;32m   6016\u001b[0m             \u001b[0;32mif\u001b[0m \u001b[0merrors\u001b[0m \u001b[0;34m!=\u001b[0m \u001b[0;34m\"ignore\"\u001b[0m\u001b[0;34m:\u001b[0m\u001b[0;34m\u001b[0m\u001b[0;34m\u001b[0m\u001b[0m\n\u001b[0;32m-> 6017\u001b[0;31m                 \u001b[0;32mraise\u001b[0m \u001b[0mKeyError\u001b[0m\u001b[0;34m(\u001b[0m\u001b[0;34mf\"{labels[mask]} not found in axis\"\u001b[0m\u001b[0;34m)\u001b[0m\u001b[0;34m\u001b[0m\u001b[0;34m\u001b[0m\u001b[0m\n\u001b[0m\u001b[1;32m   6018\u001b[0m             \u001b[0mindexer\u001b[0m \u001b[0;34m=\u001b[0m \u001b[0mindexer\u001b[0m\u001b[0;34m[\u001b[0m\u001b[0;34m~\u001b[0m\u001b[0mmask\u001b[0m\u001b[0;34m]\u001b[0m\u001b[0;34m\u001b[0m\u001b[0;34m\u001b[0m\u001b[0m\n\u001b[1;32m   6019\u001b[0m         \u001b[0;32mreturn\u001b[0m \u001b[0mself\u001b[0m\u001b[0;34m.\u001b[0m\u001b[0mdelete\u001b[0m\u001b[0;34m(\u001b[0m\u001b[0mindexer\u001b[0m\u001b[0;34m)\u001b[0m\u001b[0;34m\u001b[0m\u001b[0;34m\u001b[0m\u001b[0m\n",
      "\u001b[0;31mKeyError\u001b[0m: \"['NEWJobHunt' 'NEWJobHuntResearch' 'NEWLearn'] not found in axis\""
     ]
    }
   ],
   "source": [
    "df.drop(['NEWJobHunt','NEWJobHuntResearch','NEWLearn'],\n",
    "    axis=1,\n",
    "    inplace=True)"
   ]
  },
  {
   "cell_type": "code",
   "execution_count": 45,
   "id": "b74f7240",
   "metadata": {},
   "outputs": [
    {
     "name": "stdout",
     "output_type": "stream",
     "text": [
      "RespondentID              111209\n",
      "Year                      111209\n",
      "Country                   111209\n",
      "Employment                109425\n",
      "UndergradMajor             98453\n",
      "DevType                   100433\n",
      "LanguageWorkedWith        102018\n",
      "LanguageDesireNextYear     96044\n",
      "DatabaseWorkedWith         85859\n",
      "DatabaseDesireNextYear     74234\n",
      "PlatformWorkedWith         91609\n",
      "PlatformDesireNextYear     85376\n",
      "Hobbyist                   68352\n",
      "OrgSize                    54804\n",
      "YearsCodePro               94793\n",
      "JobSeek                    60556\n",
      "ConvertedComp              91333\n",
      "WorkWeekHrs                51089\n",
      "dtype: int64\n"
     ]
    }
   ],
   "source": [
    "print(df.count())"
   ]
  },
  {
   "cell_type": "markdown",
   "id": "c63c3deb",
   "metadata": {},
   "source": [
    "#### Analyze Developers By Country"
   ]
  },
  {
   "cell_type": "code",
   "execution_count": 13,
   "id": "74f25427",
   "metadata": {},
   "outputs": [
    {
     "data": {
      "text/html": [
       "<div>\n",
       "<style scoped>\n",
       "    .dataframe tbody tr th:only-of-type {\n",
       "        vertical-align: middle;\n",
       "    }\n",
       "\n",
       "    .dataframe tbody tr th {\n",
       "        vertical-align: top;\n",
       "    }\n",
       "\n",
       "    .dataframe thead th {\n",
       "        text-align: right;\n",
       "    }\n",
       "</style>\n",
       "<table border=\"1\" class=\"dataframe\">\n",
       "  <thead>\n",
       "    <tr style=\"text-align: right;\">\n",
       "      <th></th>\n",
       "      <th>RespondentID</th>\n",
       "    </tr>\n",
       "    <tr>\n",
       "      <th>Country</th>\n",
       "      <th></th>\n",
       "    </tr>\n",
       "  </thead>\n",
       "  <tbody>\n",
       "    <tr>\n",
       "      <th>Canada</th>\n",
       "      <td>8979</td>\n",
       "    </tr>\n",
       "    <tr>\n",
       "      <th>China</th>\n",
       "      <td>2072</td>\n",
       "    </tr>\n",
       "    <tr>\n",
       "      <th>France</th>\n",
       "      <td>6861</td>\n",
       "    </tr>\n",
       "    <tr>\n",
       "      <th>Germany</th>\n",
       "      <td>16215</td>\n",
       "    </tr>\n",
       "    <tr>\n",
       "      <th>Japan</th>\n",
       "      <td>1049</td>\n",
       "    </tr>\n",
       "    <tr>\n",
       "      <th>Mexico</th>\n",
       "      <td>1918</td>\n",
       "    </tr>\n",
       "    <tr>\n",
       "      <th>Spain</th>\n",
       "      <td>4534</td>\n",
       "    </tr>\n",
       "    <tr>\n",
       "      <th>United Kingdom</th>\n",
       "      <td>15854</td>\n",
       "    </tr>\n",
       "    <tr>\n",
       "      <th>United States</th>\n",
       "      <td>53727</td>\n",
       "    </tr>\n",
       "  </tbody>\n",
       "</table>\n",
       "</div>"
      ],
      "text/plain": [
       "                RespondentID\n",
       "Country                     \n",
       "Canada                  8979\n",
       "China                   2072\n",
       "France                  6861\n",
       "Germany                16215\n",
       "Japan                   1049\n",
       "Mexico                  1918\n",
       "Spain                   4534\n",
       "United Kingdom         15854\n",
       "United States          53727"
      ]
     },
     "execution_count": 13,
     "metadata": {},
     "output_type": "execute_result"
    }
   ],
   "source": [
    "import seaborn as sns\n",
    "import matplotlib.pyplot as plt\n",
    "\n",
    "df[['RespondentID', 'Country']].groupby('Country').count()"
   ]
  },
  {
   "cell_type": "code",
   "execution_count": 11,
   "id": "8ab6f712",
   "metadata": {},
   "outputs": [
    {
     "data": {
      "text/html": [
       "<div>\n",
       "<style scoped>\n",
       "    .dataframe tbody tr th:only-of-type {\n",
       "        vertical-align: middle;\n",
       "    }\n",
       "\n",
       "    .dataframe tbody tr th {\n",
       "        vertical-align: top;\n",
       "    }\n",
       "\n",
       "    .dataframe thead th {\n",
       "        text-align: right;\n",
       "    }\n",
       "</style>\n",
       "<table border=\"1\" class=\"dataframe\">\n",
       "  <thead>\n",
       "    <tr style=\"text-align: right;\">\n",
       "      <th></th>\n",
       "      <th>Country</th>\n",
       "      <th>Employment</th>\n",
       "      <th>DevType</th>\n",
       "    </tr>\n",
       "  </thead>\n",
       "  <tbody>\n",
       "    <tr>\n",
       "      <th>0</th>\n",
       "      <td>Canada</td>\n",
       "      <td>148</td>\n",
       "      <td>944</td>\n",
       "    </tr>\n",
       "    <tr>\n",
       "      <th>1</th>\n",
       "      <td>China</td>\n",
       "      <td>139</td>\n",
       "      <td>491</td>\n",
       "    </tr>\n",
       "    <tr>\n",
       "      <th>2</th>\n",
       "      <td>France</td>\n",
       "      <td>104</td>\n",
       "      <td>848</td>\n",
       "    </tr>\n",
       "    <tr>\n",
       "      <th>3</th>\n",
       "      <td>Germany</td>\n",
       "      <td>386</td>\n",
       "      <td>1691</td>\n",
       "    </tr>\n",
       "    <tr>\n",
       "      <th>4</th>\n",
       "      <td>Japan</td>\n",
       "      <td>13</td>\n",
       "      <td>109</td>\n",
       "    </tr>\n",
       "    <tr>\n",
       "      <th>5</th>\n",
       "      <td>Mexico</td>\n",
       "      <td>25</td>\n",
       "      <td>207</td>\n",
       "    </tr>\n",
       "    <tr>\n",
       "      <th>6</th>\n",
       "      <td>Spain</td>\n",
       "      <td>74</td>\n",
       "      <td>434</td>\n",
       "    </tr>\n",
       "    <tr>\n",
       "      <th>7</th>\n",
       "      <td>United Kingdom</td>\n",
       "      <td>196</td>\n",
       "      <td>1472</td>\n",
       "    </tr>\n",
       "    <tr>\n",
       "      <th>8</th>\n",
       "      <td>United States</td>\n",
       "      <td>699</td>\n",
       "      <td>4580</td>\n",
       "    </tr>\n",
       "  </tbody>\n",
       "</table>\n",
       "</div>"
      ],
      "text/plain": [
       "          Country  Employment  DevType\n",
       "0          Canada         148      944\n",
       "1           China         139      491\n",
       "2          France         104      848\n",
       "3         Germany         386     1691\n",
       "4           Japan          13      109\n",
       "5          Mexico          25      207\n",
       "6           Spain          74      434\n",
       "7  United Kingdom         196     1472\n",
       "8   United States         699     4580"
      ]
     },
     "execution_count": 11,
     "metadata": {},
     "output_type": "execute_result"
    }
   ],
   "source": [
    "missingData = df[['Employment', 'DevType']].isnull().groupby(df['Country']).sum().reset_index()\n",
    "missingData #Shows how many missing data we have on the employment and DevType grouped by Country"
   ]
  },
  {
   "cell_type": "markdown",
   "id": "752df71b",
   "metadata": {},
   "source": [
    "Now, we will utilize the method catplot on seaborn to plot some visualization"
   ]
  },
  {
   "cell_type": "code",
   "execution_count": 24,
   "id": "196826b6",
   "metadata": {},
   "outputs": [
    {
     "data": {
      "image/png": "[encoded data removed]",
      "text/plain": [
       "<Figure size 864x432 with 1 Axes>"
      ]
     },
     "metadata": {
      "needs_background": "light"
     },
     "output_type": "display_data"
    },
    {
     "data": {
      "image/png": "[encoded data removed]",
      "text/plain": [
       "<Figure size 864x432 with 1 Axes>"
      ]
     },
     "metadata": {
      "needs_background": "light"
     },
     "output_type": "display_data"
    }
   ],
   "source": [
    "A=sns.catplot(\n",
    "    data=missingData, kind=\"bar\",\n",
    "    x=\"Country\", y=\"Employment\",\n",
    "    height = 6, aspect = 2)\n",
    "B=sns.catplot(\n",
    "    data=missingData, kind=\"bar\",\n",
    "    x=\"Country\", y=\"DevType\",\n",
    "    height = 6, aspect = 2)"
   ]
  },
  {
   "cell_type": "markdown",
   "id": "a32dd063",
   "metadata": {},
   "source": [
    "Trough this graphs we can conclude the countries with more missing data is United States and Gernmany. \n",
    "Also, put inot use our domanain we assume they have that amount of missing data due to their country size.\n",
    "Therefore, we conclude this data can be considered as MCAR, Missing Comnpletly At Random, allowing us to drop those\n",
    "rows with misisng data.\n",
    "We will use the method .dropna(subset['columns'], inplace =True, how = 'any)"
   ]
  },
  {
   "cell_type": "code",
   "execution_count": 30,
   "id": "6cd0f194",
   "metadata": {},
   "outputs": [],
   "source": [
    "df.dropna(subset=['Employment', 'DevType'], \n",
    "          inplace= True, \n",
    "          how= 'any')"
   ]
  },
  {
   "cell_type": "markdown",
   "id": "9d5c0186",
   "metadata": {},
   "source": [
    "Now you can analyze the distribution of employment and developer types by country. You decide to aggregate the employment data by key developer roles that align with major parts of the development lifecycle:\n",
    "\n",
    "Front-end\n",
    "\n",
    "Back-end\n",
    "\n",
    "Full-stack\n",
    "\n",
    "Mobile development\n",
    "\n",
    "Administration roles\n"
   ]
  },
  {
   "cell_type": "code",
   "execution_count": 33,
   "id": "c2b324a5",
   "metadata": {},
   "outputs": [
    {
     "data": {
      "image/png": "[encoded data removed]",
      "text/plain": [
       "<Figure size 5184x432 with 6 Axes>"
      ]
     },
     "metadata": {
      "needs_background": "light"
     },
     "output_type": "display_data"
    }
   ],
   "source": [
    "empfig = sns.catplot(x=\"Country\", col=\"Employment\",\n",
    "                data=df, kind=\"count\",\n",
    "                height=6, aspect=2); #Graph shows the relation between employment and countries\n"
   ]
  },
  {
   "cell_type": "code",
   "execution_count": 39,
   "id": "7f3a2b01",
   "metadata": {},
   "outputs": [
    {
     "name": "stderr",
     "output_type": "stream",
     "text": [
      "/Users/luizotaviofariavitor/opt/anaconda3/lib/python3.9/site-packages/pandas/core/indexing.py:1684: SettingWithCopyWarning: \n",
      "A value is trying to be set on a copy of a slice from a DataFrame.\n",
      "Try using .loc[row_indexer,col_indexer] = value instead\n",
      "\n",
      "See the caveats in the documentation: https://pandas.pydata.org/pandas-docs/stable/user_guide/indexing.html#returning-a-view-versus-a-copy\n",
      "  self.obj[key] = infer_fill_value(value)\n",
      "/Users/luizotaviofariavitor/opt/anaconda3/lib/python3.9/site-packages/pandas/core/indexing.py:1817: SettingWithCopyWarning: \n",
      "A value is trying to be set on a copy of a slice from a DataFrame.\n",
      "Try using .loc[row_indexer,col_indexer] = value instead\n",
      "\n",
      "See the caveats in the documentation: https://pandas.pydata.org/pandas-docs/stable/user_guide/indexing.html#returning-a-view-versus-a-copy\n",
      "  self._setitem_single_column(loc, value, pi)\n"
     ]
    },
    {
     "data": {
      "image/png": "[encoded data removed]",
      "text/plain": [
       "<Figure size 3240x432 with 5 Axes>"
      ]
     },
     "metadata": {
      "needs_background": "light"
     },
     "output_type": "display_data"
    }
   ],
   "source": [
    "# Focus on a few of the key developer types outlined in the Stack Overflow survey\n",
    "devdf = df[['Country','DevType']]\n",
    "devdf.loc[devdf['DevType'].str.contains('back-end'), 'BackEnd'] = True\n",
    "devdf.loc[devdf['DevType'].str.contains('front-end'), 'FrontEnd'] = True\n",
    "devdf.loc[devdf['DevType'].str.contains('full-stack'), 'FullStack'] = True\n",
    "devdf.loc[devdf['DevType'].str.contains('mobile'), 'Mobile'] = True\n",
    "devdf.loc[devdf['DevType'].str.contains('administrator'), 'Admin'] = True\n",
    "\n",
    "devdf = devdf.melt(id_vars=['Country'], \n",
    "    value_vars=['BackEnd','FrontEnd','FullStack','Mobile','Admin'], \n",
    "    var_name='DevCat',\n",
    "    value_name='DevFlag')\n",
    "\n",
    "devdf.dropna(how='any', inplace=True) #Delete any collumn that has a missing data\n",
    " \n",
    "devFig = sns.catplot(x=\"Country\", col=\"DevCat\",\n",
    "                data=devdf, kind=\"count\",\n",
    "                height=6, aspect=1.5);\n",
    " "
   ]
  },
  {
   "cell_type": "markdown",
   "id": "59ce8bfe",
   "metadata": {},
   "source": [
    "You see that the vast majority of respondents are employed full-time. Since these developers are mainly employed, this data will be relevant for a client who wants to see what developers look for in a potential job. You also see that the majority of developers will have skill sets in front-end, back-end, or full-stack development. This is interesting, and shows that the market values developers who can excel in at least a major part of the development lifecycle, if not the entire stack."
   ]
  },
  {
   "cell_type": "markdown",
   "id": "559711aa",
   "metadata": {},
   "source": [
    "#### Investigate developer undergraduate majors"
   ]
  },
  {
   "cell_type": "markdown",
   "id": "9719c2ef",
   "metadata": {},
   "source": [
    "You decide to dive into the background for each type of developer to see trends in their educational experience that ultimately led to a career with technology. In particular, you look at the overall trend of majors year over year for respondents. As you saw before, you are missing about 11% of the data for UndergradMajor. Why do you think this data is missing? Could something have happened over the course of these three years? Is the fact that data is missing accurate?"
   ]
  },
  {
   "cell_type": "code",
   "execution_count": 45,
   "id": "43f6e927",
   "metadata": {},
   "outputs": [
    {
     "data": {
      "text/html": [
       "<div>\n",
       "<style scoped>\n",
       "    .dataframe tbody tr th:only-of-type {\n",
       "        vertical-align: middle;\n",
       "    }\n",
       "\n",
       "    .dataframe tbody tr th {\n",
       "        vertical-align: top;\n",
       "    }\n",
       "\n",
       "    .dataframe thead th {\n",
       "        text-align: right;\n",
       "    }\n",
       "</style>\n",
       "<table border=\"1\" class=\"dataframe\">\n",
       "  <thead>\n",
       "    <tr style=\"text-align: right;\">\n",
       "      <th></th>\n",
       "      <th>Year</th>\n",
       "      <th>UndergradMajor</th>\n",
       "    </tr>\n",
       "  </thead>\n",
       "  <tbody>\n",
       "    <tr>\n",
       "      <th>0</th>\n",
       "      <td>2018</td>\n",
       "      <td>5559</td>\n",
       "    </tr>\n",
       "    <tr>\n",
       "      <th>1</th>\n",
       "      <td>2019</td>\n",
       "      <td>3831</td>\n",
       "    </tr>\n",
       "    <tr>\n",
       "      <th>2</th>\n",
       "      <td>2020</td>\n",
       "      <td>0</td>\n",
       "    </tr>\n",
       "  </tbody>\n",
       "</table>\n",
       "</div>"
      ],
      "text/plain": [
       "   Year  UndergradMajor\n",
       "0  2018            5559\n",
       "1  2019            3831\n",
       "2  2020               0"
      ]
     },
     "execution_count": 45,
     "metadata": {},
     "output_type": "execute_result"
    }
   ],
   "source": [
    "missingUndergrad = df[['UndergradMajor']].isnull().groupby(df['Year']).sum().reset_index()\n",
    "missingUndergrad"
   ]
  },
  {
   "cell_type": "code",
   "execution_count": 46,
   "id": "d86d0c7f",
   "metadata": {},
   "outputs": [
    {
     "data": {
      "image/png": "[encoded data removed]",
      "text/plain": [
       "<Figure size 576x288 with 1 Axes>"
      ]
     },
     "metadata": {
      "needs_background": "light"
     },
     "output_type": "display_data"
    }
   ],
   "source": [
    "UndergradYear = sns.catplot(\n",
    "                data = missingUndergrad, kind = 'bar',\n",
    "                x= 'Year', y= 'UndergradMajor',\n",
    "                height = 4, aspect =2)"
   ]
  },
  {
   "cell_type": "markdown",
   "id": "8b8fd7bd",
   "metadata": {},
   "source": [
    "Through the graph we notice all participants on the year of 2020 had filled in \n",
    "their Undergrad Major on the survey.\n",
    "But what happened on the years of 2018, 2019? Were they transfering majors, not sure what major or career \n",
    "they wanted to follow?\n",
    "or the purposes of your analysis, you are most interested in what major a person ultimately landed on, \n",
    "as this would be the educational background they would carry into a job search. You want to carry that \n",
    "value backwards for each participant to fill in any missing data. This is a great use for one of our \n",
    "Single Imputation techniques: NOCB! Fill in the gaps using NOCB:\n",
    "Next Observation Carried Backward"
   ]
  },
  {
   "cell_type": "code",
   "execution_count": 52,
   "id": "4b60984c",
   "metadata": {},
   "outputs": [],
   "source": [
    "# Sort by ID and Year so that each person's data is carried backwards correctly\n",
    "df = df.sort_values(['RespondentID','Year'])\n",
    "df['UndergradMajor'].bfill(axis=0, inplace= True)"
   ]
  },
  {
   "cell_type": "markdown",
   "id": "4c65b6fa",
   "metadata": {},
   "source": [
    "From here, you analyze the major distribution for each year, using a vertical bar chart visualization:"
   ]
  },
  {
   "cell_type": "code",
   "execution_count": 58,
   "id": "2aaa9883",
   "metadata": {},
   "outputs": [
    {
     "name": "stderr",
     "output_type": "stream",
     "text": [
      "/Users/luizotaviofariavitor/opt/anaconda3/lib/python3.9/site-packages/pandas/util/_decorators.py:311: SettingWithCopyWarning: \n",
      "A value is trying to be set on a copy of a slice from a DataFrame\n",
      "\n",
      "See the caveats in the documentation: https://pandas.pydata.org/pandas-docs/stable/user_guide/indexing.html#returning-a-view-versus-a-copy\n",
      "  return func(*args, **kwargs)\n",
      "/Users/luizotaviofariavitor/opt/anaconda3/lib/python3.9/site-packages/pandas/core/indexing.py:1684: SettingWithCopyWarning: \n",
      "A value is trying to be set on a copy of a slice from a DataFrame.\n",
      "Try using .loc[row_indexer,col_indexer] = value instead\n",
      "\n",
      "See the caveats in the documentation: https://pandas.pydata.org/pandas-docs/stable/user_guide/indexing.html#returning-a-view-versus-a-copy\n",
      "  self.obj[key] = infer_fill_value(value)\n",
      "/Users/luizotaviofariavitor/opt/anaconda3/lib/python3.9/site-packages/pandas/core/indexing.py:1817: SettingWithCopyWarning: \n",
      "A value is trying to be set on a copy of a slice from a DataFrame.\n",
      "Try using .loc[row_indexer,col_indexer] = value instead\n",
      "\n",
      "See the caveats in the documentation: https://pandas.pydata.org/pandas-docs/stable/user_guide/indexing.html#returning-a-view-versus-a-copy\n",
      "  self._setitem_single_column(loc, value, pi)\n"
     ]
    },
    {
     "data": {
      "image/png": "[encoded data removed]",
      "text/plain": [
       "<Figure size 3240x432 with 5 Axes>"
      ]
     },
     "metadata": {
      "needs_background": "light"
     },
     "output_type": "display_data"
    }
   ],
   "source": [
    "# Key major groups outlined in the Stack Overflow survey\n",
    "majors = ['social science','natural science','computer science','development','another engineering','never declared']\n",
    "\n",
    "edudf= df[['Year', 'UndergradMajor']]\n",
    "edudf.dropna(how= 'any', inplace = True)\n",
    "\n",
    "edudf.loc[edudf['UndergradMajor'].str.contains('(?i)social science'), 'SocialScience'] = True\n",
    "edudf.loc[edudf['UndergradMajor'].str.contains('(?i)natural science'), 'NaturalScience'] = True\n",
    "edudf.loc[edudf['UndergradMajor'].str.contains('(?i)computer science'), 'ComSci'] = True\n",
    "edudf.loc[edudf['UndergradMajor'].str.contains('(?i)development'), 'ComSci'] = True\n",
    "edudf.loc[edudf['UndergradMajor'].str.contains('(?i)another engineering'), 'OtherEng'] = True\n",
    "edudf.loc[edudf['UndergradMajor'].str.contains('(?i)never declared'), 'NoMajor'] = True\n",
    " \n",
    "edudf = edudf.melt(id_vars=['Year'], \n",
    "    value_vars=['SocialScience','NaturalScience','ComSci','OtherEng','NoMajor'], \n",
    "    var_name='EduCat',\n",
    "    value_name='EduFlag')\n",
    "\n",
    "edudf.dropna(how='any', inplace=True)\n",
    "edudf = edudf.groupby(['Year','EduCat']).count().reset_index()\n",
    " \n",
    "eduFig = sns.catplot(x=\"Year\", y='EduFlag', col=\"EduCat\",\n",
    "                data=edudf, kind=\"bar\",\n",
    "                height=6, aspect=1.5);"
   ]
  },
  {
   "cell_type": "markdown",
   "id": "1ee0db52",
   "metadata": {},
   "source": [
    "You notice that the vast majority of people who enter the workforce for development have some background in a Computer Science major. Interestingly, however, the number of Computer Science majors significantly declined over the years surveyed, indicating that there could be other majors that have successfully entered the workforce for their desired job. This would require further analysis and could allow an individual to pursue a separate education path and still end up in some kind of developer role."
   ]
  },
  {
   "cell_type": "markdown",
   "id": "71c6b9a5",
   "metadata": {},
   "source": [
    "#### Examine the relationship between years of experience and compensation"
   ]
  },
  {
   "cell_type": "markdown",
   "id": "7b707a33",
   "metadata": {},
   "source": [
    "#### At this point, we have studied the demographics of developers around the world, from where they live to the education paths they have taken. Now, you turn your focus to the various aspects that would influence the job-hunting process.\n",
    "\n",
    "Years of experience are an important metric when looking to understand the general skill and technical capabilities of a potential candidate. Compensation is also important for our client to understand what the “going rate” for a particular developer is in today’s market. I might assume that there is a strong correlation between experience and job compensation, making it an excellent hypothesis to explore.\n",
    "\n",
    "In order to understand a bit about the data for each of these two fields, lets's perform some more exploratory analysis:"
   ]
  },
  {
   "cell_type": "code",
   "execution_count": 64,
   "id": "bde6f298",
   "metadata": {},
   "outputs": [
    {
     "data": {
      "image/png": "[encoded data removed]",
      "text/plain": [
       "<Figure size 432x288 with 1 Axes>"
      ]
     },
     "metadata": {
      "needs_background": "light"
     },
     "output_type": "display_data"
    }
   ],
   "source": [
    "compFields= df[['Year','YearsCodePro', 'ConvertedComp']]\n",
    "\n",
    "F = sns.boxplot (x ='Year', y= 'YearsCodePro', data =compFields)\n"
   ]
  },
  {
   "cell_type": "code",
   "execution_count": 66,
   "id": "07406c76",
   "metadata": {},
   "outputs": [
    {
     "data": {
      "image/png": "[encoded data removed]",
      "text/plain": [
       "<Figure size 432x288 with 1 Axes>"
      ]
     },
     "metadata": {
      "needs_background": "light"
     },
     "output_type": "display_data"
    }
   ],
   "source": [
    "G= sns.boxplot( x='Year', y = 'ConvertedComp', data= compFields)"
   ]
  },
  {
   "cell_type": "markdown",
   "id": "4e4d8e2f",
   "metadata": {},
   "source": [
    "Although there are some outlier data points for each column, the overall distribution is fairly consistent year-over-year. This indicates that there is a strong correlation between the data points, which should tell a good story about how experience can translate into compensation. Since there is a clear trend with the data points, you decide the best method for filling in the missing data for these two columns is through Multiple Imputation:\n",
    "That means we would have to create a model for the data."
   ]
  },
  {
   "cell_type": "code",
   "execution_count": 68,
   "id": "b0dd2835",
   "metadata": {},
   "outputs": [],
   "source": [
    "import numpy as np\n",
    "from sklearn.experimental import enable_iterative_imputer\n",
    "from sklearn.impute import IterativeImputer\n",
    "from sklearn.model_selection import train_test_split\n",
    " \n",
    "imputedf = df[['YearsCodePro','ConvertedComp']]\n",
    "\n",
    "traindf, testdf = train_test_split(imputedf, train_size=0.1)\n",
    " \n",
    "# Create the IterativeImputer model to predict missing values\n",
    "imp = IterativeImputer(max_iter=20, random_state=0)\n",
    " \n",
    "# Fit the model to the the test dataset\n",
    "imp.fit(imputedf)\n",
    " \n",
    "# Transform the model on the entire dataset\n",
    "compdf = pd.DataFrame(np.round(imp.transform(imputedf),0), columns=['YearsCodePro','ConvertedComp'])"
   ]
  },
  {
   "cell_type": "markdown",
   "id": "7798712e",
   "metadata": {},
   "source": [
    "The above code will loop through (up to 20 times), and fill in the missing data based on the context provided by the other column. This should create data points that are indicative of the overall trend of the data. Now, you can analyze the relationship between YearsCodePro and CinvertedComp through the use of a boxplot like so:"
   ]
  },
  {
   "cell_type": "code",
   "execution_count": 70,
   "id": "7568ad1c",
   "metadata": {},
   "outputs": [
    {
     "name": "stderr",
     "output_type": "stream",
     "text": [
      "/var/folders/wd/yrwwb58d3md992vn3zjmmj0r0000gn/T/ipykernel_57132/217461189.py:2: SettingWithCopyWarning: \n",
      "A value is trying to be set on a copy of a slice from a DataFrame.\n",
      "Try using .loc[row_indexer,col_indexer] = value instead\n",
      "\n",
      "See the caveats in the documentation: https://pandas.pydata.org/pandas-docs/stable/user_guide/indexing.html#returning-a-view-versus-a-copy\n",
      "  compPlotdf['CodeYearBins'] = pd.qcut(compPlotdf['YearsCodePro'], q=5) #Group the year in bins of 5 in 5\n"
     ]
    },
    {
     "data": {
      "text/plain": [
       "<AxesSubplot:xlabel='CodeYearBins', ylabel='ConvertedComp'>"
      ]
     },
     "execution_count": 70,
     "metadata": {},
     "output_type": "execute_result"
    },
    {
     "data": {
      "image/png": "[encoded data removed]",
      "text/plain": [
       "<Figure size 432x288 with 1 Axes>"
      ]
     },
     "metadata": {
      "needs_background": "light"
     },
     "output_type": "display_data"
    }
   ],
   "source": [
    "compPlotdf = compdf.loc[compdf['ConvertedComp'] <= 150000]\n",
    "compPlotdf['CodeYearBins'] = pd.qcut(compPlotdf['YearsCodePro'], q=5) #Group the year in bins of 5 in 5\n",
    " \n",
    "sns.boxplot(x=\"CodeYearBins\", y=\"ConvertedComp\",\n",
    "            data=compPlotdf)"
   ]
  },
  {
   "cell_type": "markdown",
   "id": "4f1a4275",
   "metadata": {},
   "source": [
    "The plot above validates your hypothesis from before. While there are high (and low) earning developers at every experience level, experience appears to correlate with compensation. The more experienced a developer was, the more (on average) they were compensated."
   ]
  }
 ],
 "metadata": {
  "kernelspec": {
   "display_name": "Python 3 (ipykernel)",
   "language": "python",
   "name": "python3"
  },
  "language_info": {
   "codemirror_mode": {
    "name": "ipython",
    "version": 3
   },
   "file_extension": ".py",
   "mimetype": "text/x-python",
   "name": "python",
   "nbconvert_exporter": "python",
   "pygments_lexer": "ipython3",
   "version": "3.9.7"
  }
 },
 "nbformat": 4,
 "nbformat_minor": 5
}

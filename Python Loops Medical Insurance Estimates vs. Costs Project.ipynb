{
 "cells": [
  {
   "cell_type": "code",
   "execution_count": 1,
   "id": "c3c14271",
   "metadata": {},
   "outputs": [
    {
     "name": "stdout",
     "output_type": "stream",
     "text": [
      "Average Insurance Cost:\n",
      "4400.0 dollars.\n",
      "\n",
      "\n",
      "The insurance cost for Judith is 1100.0\n",
      "The insurance cost for Judith is equal to the average\n",
      "\n",
      "The insurance cost for Abel is 2200.0\n",
      "The insurance cost for Abel is equal to the average\n",
      "\n",
      "The insurance cost for Tyson is 3300.0\n",
      "The insurance cost for Tyson is equal to the average\n",
      "\n",
      "The insurance cost for Martha is 4400.0\n",
      "The insurance cost for Martha is equal to the average\n",
      "\n",
      "The insurance cost for Beverley is 5500.0\n",
      "The insurance cost for Beverley is above average\n",
      "\n",
      "The insurance cost for David is 6600.0\n",
      "The insurance cost for David is above average\n",
      "\n",
      "The insurance cost for Anabel is 7700.0\n",
      "The insurance cost for Anabel is above average\n",
      "\n",
      "The list below show an update on the estimate costs\n",
      "[1100.0, 2200.0, 3300.0, 4400.0, 5500.0, 6600.0, 7700.0]\n"
     ]
    }
   ],
   "source": [
    "# This code has the objetive to pratice loops in Phyton.\n",
    "\n",
    "names = [\"Judith\", \"Abel\", \"Tyson\", \"Martha\", \"Beverley\", \"David\", \"Anabel\"]\n",
    "estimated_insurance_costs = [1000.0, 2000.0, 3000.0, 4000.0, 5000.0, 6000.0, 7000.0]\n",
    "actual_insurance_costs = [1100.0, 2200.0, 3300.0, 4400.0, 5500.0, 6600.0, 7700.0]\n",
    "\n",
    "# Add your code here\n",
    "\n",
    "total_cost= 0\n",
    "\n",
    "for insurance_cost in actual_insurance_costs:\n",
    "  total_cost +=  insurance_cost\n",
    "\n",
    "average_cost = total_cost / len(actual_insurance_costs)\n",
    "print (\"Average Insurance Cost:\\n\" + str(average_cost) + \" dollars.\\n\")\n",
    "\n",
    "for i in range(len(names)):\n",
    "    name= names[i]\n",
    "    insurance_cost = actual_insurance_costs[i] \n",
    "    print (\"\\nThe insurance cost for \"+ name+ \" is \"+ str(insurance_cost))\n",
    "\n",
    "    if insurance_cost > average_cost:\n",
    "      print(\"The insurance cost for \"+ name+\" is above average\")\n",
    "    elif insurance_cost ==  average_cost:\n",
    "        print (\"The insurance cost for \"+ name+\" is equal to the average\")\n",
    "    else:\n",
    "      print(\"The insurance cost for \"+ name+ \" is equal to the average\")\n",
    "\n",
    "#Updating the estimate costs\n",
    "print(\"\\nThe list below show an update on the estimate costs\")\n",
    "updated_estimated_costs = [each_element * 11/10 for each_element in estimated_insurance_costs]\n",
    "print(updated_estimated_costs)\n",
    "\n",
    "\n",
    "\n",
    "\n",
    "\n"
   ]
  }
 ],
 "metadata": {
  "kernelspec": {
   "display_name": "Python 3 (ipykernel)",
   "language": "python",
   "name": "python3"
  },
  "language_info": {
   "codemirror_mode": {
    "name": "ipython",
    "version": 3
   },
   "file_extension": ".py",
   "mimetype": "text/x-python",
   "name": "python",
   "nbconvert_exporter": "python",
   "pygments_lexer": "ipython3",
   "version": "3.9.7"
  }
 },
 "nbformat": 4,
 "nbformat_minor": 5
}

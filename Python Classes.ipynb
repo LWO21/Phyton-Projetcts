{
 "cells": [
  {
   "cell_type": "markdown",
   "id": "b60eb243",
   "metadata": {},
   "source": [
    "## Python Classes: Medical Insurance"
   ]
  },
  {
   "cell_type": "code",
   "execution_count": 137,
   "id": "0fe6e74c",
   "metadata": {},
   "outputs": [],
   "source": [
    "class Patient:\n",
    "    def __init__(self, name, age, sex, bmi, num_of_children, smoker):\n",
    "        self.name = name\n",
    "        self.age = age\n",
    "    #Add more parameters\n",
    "        self.sex = sex #0 for male and 1 for female\n",
    "        self.bmi = bmi #patient bmi\n",
    "        self.num_of_children= num_of_children \n",
    "        self.smoker= smoker #0 non-smoker and 1 smoker\n",
    "    "
   ]
  },
  {
   "cell_type": "markdown",
   "id": "4c8844e0",
   "metadata": {},
   "source": [
    "Now, we will create more methods"
   ]
  },
  {
   "cell_type": "code",
   "execution_count": 138,
   "id": "ef869929",
   "metadata": {},
   "outputs": [],
   "source": [
    "\n",
    "  def estimated_insurance_cost(self):\n",
    "    estimated_cost=250 *self.age - 128 *self.sex+370*self.bmi+425*self.num_of_children+24000*self.smoker-12500  \n",
    "    print(\"{}’s estimated insurance costs is {} dollars.\".format(self.name, estimated_cost))\n",
    "\n",
    "  def update_age(self,new_age):\n",
    "    self.age= new_age\n",
    "    print(\"{} is now {} years old.\".format(self.name, str(self.age)))\n",
    "\n",
    "  def update_num_children(self,new_num_children):\n",
    "    self.num_of_children = new_num_children\n",
    "    if self.num_of_children == 1:\n",
    "      print (\"{N} has {C} child.\".format(N=self.name, C= self.num_of_children))\n",
    "    else:\n",
    "      print (\"{N} has {C} children.\".format(N=self.name, C= self.num_of_children))"
   ]
  },
  {
   "cell_type": "markdown",
   "id": "96423dfd",
   "metadata": {},
   "source": [
    "Let’s create one last method that uses a dictionary to store a patient’s information in one convenient variable.\n",
    "Define a method called patient_profile() that builds a dictionary called patient_information to hold all of our patient’s information."
   ]
  },
  {
   "cell_type": "code",
   "execution_count": 155,
   "id": "b48046d7",
   "metadata": {},
   "outputs": [],
   "source": [
    " def patient_profile(self):\n",
    "      patient_information={}\n",
    "      patient_information[\"Name\"] = self.name\n",
    "      patient_information[\"Age\"] = self.age\n",
    "      patient_information[\"Sex\"] = self.sex\n",
    "      patient_information[\"BMI\"] = self.bmi\n",
    "      patient_information[\"Number of Children\"] = self.num_of_children\n",
    "      patient_information[\"Smoker\"] = self.smoker\n",
    "      return patient_information"
   ]
  },
  {
   "cell_type": "code",
   "execution_count": 147,
   "id": "eb8dd26a",
   "metadata": {
    "scrolled": true
   },
   "outputs": [
    {
     "name": "stdout",
     "output_type": "stream",
     "text": [
      "John Doe\n"
     ]
    }
   ],
   "source": [
    "patient1= Patient(\"John Doe\", 25, 1, 22.2, 0, 0)\n",
    "print(patient1.name)"
   ]
  },
  {
   "cell_type": "code",
   "execution_count": 157,
   "id": "441f3ebd",
   "metadata": {},
   "outputs": [
    {
     "name": "stdout",
     "output_type": "stream",
     "text": [
      "John Doe is now 26 years old.\n"
     ]
    }
   ],
   "source": [
    "patient1.update_age(26)"
   ]
  },
  {
   "cell_type": "code",
   "execution_count": 159,
   "id": "fddc65ed",
   "metadata": {},
   "outputs": [
    {
     "name": "stdout",
     "output_type": "stream",
     "text": [
      "John Doe has 1 child.\n"
     ]
    }
   ],
   "source": [
    "patient1.update_num_children(1)"
   ]
  },
  {
   "cell_type": "code",
   "execution_count": 161,
   "id": "489d31cd",
   "metadata": {},
   "outputs": [
    {
     "name": "stdout",
     "output_type": "stream",
     "text": [
      "John Doe’s estimated insurance costs is 2511.0 dollars.\n"
     ]
    }
   ],
   "source": [
    "patient1.estimated_insurance_cost()"
   ]
  },
  {
   "cell_type": "code",
   "execution_count": 162,
   "id": "efb7be0a",
   "metadata": {},
   "outputs": [
    {
     "name": "stdout",
     "output_type": "stream",
     "text": [
      "{'Name': 'John Doe', 'Age': 26, 'Sex': 1, 'BMI': 22.2, 'Number of Children': 1, 'Smoker': 0}\n"
     ]
    }
   ],
   "source": [
    "print (patient1.patient_profile())"
   ]
  }
 ],
 "metadata": {
  "kernelspec": {
   "display_name": "Python 3 (ipykernel)",
   "language": "python",
   "name": "python3"
  },
  "language_info": {
   "codemirror_mode": {
    "name": "ipython",
    "version": 3
   },
   "file_extension": ".py",
   "mimetype": "text/x-python",
   "name": "python",
   "nbconvert_exporter": "python",
   "pygments_lexer": "ipython3",
   "version": "3.9.7"
  }
 },
 "nbformat": 4,
 "nbformat_minor": 5
}

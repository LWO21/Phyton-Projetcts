{
 "cells": [
  {
   "cell_type": "code",
   "execution_count": 1,
   "id": "ebf75f4f",
   "metadata": {},
   "outputs": [
    {
     "name": "stdout",
     "output_type": "stream",
     "text": [
      "\n",
      "[('Mohamed', 13262.0), ('Sara', 4816.0), ('Xia', 6839.0), ('Paul', 5054.0), ('Valentina', 14724.0), ('Jide', 5360.0), ('Aaron', 7640.0), ('Emily', 6072.0), ('Nikita', 2750.0), ('Paul', 12064.0), ('Priscilla', 8320.0)]\n",
      "\n",
      "There are 11 medical records\n",
      "\n",
      "Here is the first medical record: ('Mohamed', 13262.0)\n",
      "\n",
      "Here are the medical records sorted by insurance cost: [('Nikita', 2750.0), ('Sara', 4816.0), ('Paul', 5054.0), ('Jide', 5360.0), ('Emily', 6072.0), ('Xia', 6839.0), ('Aaron', 7640.0), ('Priscilla', 8320.0), ('Paul', 12064.0), ('Mohamed', 13262.0), ('Valentina', 14724.0)]\n",
      "\n",
      "Here are the three cheapest insurance costs in out medical records: \n",
      " [[('Nikita', 2750.0), ('Sara', 4816.0), ('Paul', 5054.0)]]\n",
      "\n",
      "Here are the three most expensice insurance costs in our medical records:\n",
      "[[('Paul', 12064.0), ('Mohamed', 13262.0), ('Valentina', 14724.0)]]\n",
      "\n",
      "There are : 2 individuals with the name Paul in our medical records\n",
      "[('Aaron', 7640.0), ('Emily', 6072.0), ('Jide', 5360.0), ('Mohamed', 13262.0), ('Nikita', 2750.0), ('Paul', 5054.0), ('Paul', 12064.0), ('Priscilla', 8320.0), ('Sara', 4816.0), ('Valentina', 14724.0), ('Xia', 6839.0)]\n"
     ]
    }
   ],
   "source": [
    "names = [\"Mohamed\", \"Sara\", \"Xia\", \"Paul\", \"Valentina\", \"Jide\", \"Aaron\", \"Emily\", \"Nikita\", \"Paul\"]\n",
    "insurance_costs = [13262.0, 4816.0, 6839.0, 5054.0, 14724.0, 5360.0, 7640.0, 6072.0, 2750.0, 12064.0]\n",
    "\n",
    "# Add your code here\n",
    "names.append(\"Priscilla\")\n",
    "insurance_costs.append(8320.0)\n",
    "print()\n",
    "#We are gonna zip both list to become one list\n",
    "medical_records = list(zip(names, insurance_costs))\n",
    "print(medical_records)\n",
    "print()\n",
    "#Get know wiht how many records we are dealing here\n",
    "num_medical_records= len(medical_records)\n",
    "print (\"There are \"+ str(num_medical_records) + \" medical records\") \n",
    "print()\n",
    "#Selecting the first medical record\n",
    "first_medical_record = medical_records[0]\n",
    "print (\"Here is the first medical record: \" + str(first_medical_record))\n",
    "print()\n",
    "#Sort the medical records by the lowest insurance costs appearing at the start of the list\n",
    "medical_records.sort(key=lambda row: row[1], reverse= False)\n",
    "print(\"Here are the medical records sorted by insurance cost: \" + str(medical_records))\n",
    "\n",
    "#Select the three cheapest record insurance. Since we already modify our list by the insurance cost we should be all set just to slice it.\n",
    "cheapest_three= [medical_records[:3]]\n",
    "print()\n",
    "print(\"Here are the three cheapest insurance costs in out medical records: \\n \" + str(cheapest_three))\n",
    "\n",
    "#Selecting the most three expensives costs\n",
    "priciest_three= [medical_records[-3:]]\n",
    "print(\"\\nHere are the three most expensice insurance costs in our medical records:\\n\" + str(priciest_three))\n",
    "\n",
    "#Occurances of Paul\n",
    "occurances = sum(x.count('Paul') for x in medical_records)\n",
    "print(\"\\nThere are : \"+ str(occurances)+ \" individuals with the name Paul in our medical records\")\n",
    "\n",
    "#If I want to sorted the medical records by name, instead cheap cost\n",
    "medical_records.sort(key=lambda row: row[0], reverse=False)\n",
    "print (medical_records)\n",
    "\n",
    "\n",
    "\n",
    "\n",
    "\n"
   ]
  }
 ],
 "metadata": {
  "kernelspec": {
   "display_name": "Python 3 (ipykernel)",
   "language": "python",
   "name": "python3"
  },
  "language_info": {
   "codemirror_mode": {
    "name": "ipython",
    "version": 3
   },
   "file_extension": ".py",
   "mimetype": "text/x-python",
   "name": "python",
   "nbconvert_exporter": "python",
   "pygments_lexer": "ipython3",
   "version": "3.9.7"
  }
 },
 "nbformat": 4,
 "nbformat_minor": 5
}

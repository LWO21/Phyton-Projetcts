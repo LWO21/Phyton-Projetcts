{
 "cells": [
  {
   "cell_type": "markdown",
   "metadata": {},
   "source": [
    "# U.S. Medical Insurance Costs"
   ]
  },
  {
   "cell_type": "markdown",
   "metadata": {},
   "source": [
    "#### This project has the objetcive to analysis a medical insurance costs utilizng fundamental tools frrom python, such as:\n",
    "     \n",
    "    Files\n",
    "    Class\n",
    "    Strings\n",
    "    Dictionary\n",
    "    Functions\n",
    "    Loops\n",
    "    "
   ]
  },
  {
   "cell_type": "markdown",
   "metadata": {},
   "source": [
    "#### Step 1: Import csv document"
   ]
  },
  {
   "cell_type": "markdown",
   "metadata": {},
   "source": [
    "#### Step 2: Open csv file "
   ]
  },
  {
   "cell_type": "markdown",
   "metadata": {},
   "source": [
    "##### Step 3: Import the data set using a function, dict reader, and "
   ]
  },
  {
   "cell_type": "markdown",
   "metadata": {},
   "source": [
    "#### with open('insurance.csv') as insurance_file:\n",
    "    insurance_reader = csv.DictReader(insurance_file)\n",
    "    for row in insurance_reader:\n",
    "        age_row = row\n",
    "        ages.append(age_row['age'])\n",
    "        regions.append(age_row['region'])\n",
    "        patient_charges.append(age_row['charges'])\n",
    "        patient_sex.append(age_row['sex'])"
   ]
  },
  {
   "cell_type": "markdown",
   "metadata": {},
   "source": [
    "##### Step 4: Save the keys of the dataset to the corresponding variables using the function from before"
   ]
  },
  {
   "cell_type": "code",
   "execution_count": 21,
   "metadata": {},
   "outputs": [],
   "source": [
    "import csv\n",
    "from collections import Counter\n",
    "\n",
    "ages = []\n",
    "patient_sex = []\n",
    "patient_bmi = []\n",
    "patient_children = []\n",
    "smoker_status = []\n",
    "regions = []\n",
    "patient_charges = []\n",
    "\n",
    "with open('insurance.csv') as insurance_file:\n",
    "    insurance_reader = csv.DictReader(insurance_file)\n",
    "    for row in insurance_reader:\n",
    "        age_row = row\n",
    "        # I'm iterating the insurance reader and grabing the information needed it. It could be done by List Comprehension\n",
    "        ages.append(int(age_row['age']))\n",
    "        patient_sex.append(age_row['sex'])\n",
    "        patient_bmi.append(age_row['bmi'])\n",
    "        patient_children.append(int(age_row['children']))\n",
    "        smoker_status.append(age_row['smoker'])\n",
    "        regions.append(age_row['region'])\n",
    "        patient_charges.append(float(age_row['charges']))\n"
   ]
  },
  {
   "cell_type": "markdown",
   "metadata": {},
   "source": [
    "#### The method below did not work and I have no idea why. I was trying to do for list comprehesion.\n",
    "\n",
    "    ages = [record['age'] for record in insurance_reader]   \n",
    "    patient_sex = [record['sex'] for record in insurance_reader]\n",
    "    patient_bmi = [record['bmi'] for record in insurance_reader]\n",
    "    smoker = [record['smoker'] for record in insurance_reader]\n",
    "    regions = [record['region'] for record in insurance_reader]\n",
    "    patient_charge = [record['charges'] for record in insurance_reader]"
   ]
  },
  {
   "cell_type": "markdown",
   "metadata": {},
   "source": [
    "##### Step 5: Build out a classes for functions that will  \n"
   ]
  },
  {
   "cell_type": "markdown",
   "metadata": {},
   "source": [
    "#### 1.)find average age of the patients\n",
    "\n"
   ]
  },
  {
   "cell_type": "code",
   "execution_count": 39,
   "metadata": {},
   "outputs": [
    {
     "name": "stdout",
     "output_type": "stream",
     "text": [
      "The average age of the patiensts is, 39.21\n"
     ]
    }
   ],
   "source": [
    "#5.1\n",
    "class Average:\n",
    "    \n",
    "    def avg_pat(self,num):\n",
    "        avg = int(sum(num)) / int(len(num))\n",
    "        print('The average age of the patiensts is, {:2.2f}'.format(avg))\n",
    "        \n",
    "a = Average()\n",
    "average_patients = a.avg_pat(ages)\n"
   ]
  },
  {
   "cell_type": "markdown",
   "metadata": {},
   "source": [
    "#### 2.)return the number of males vs. females counted in the dataset"
   ]
  },
  {
   "cell_type": "code",
   "execution_count": 41,
   "metadata": {},
   "outputs": [
    {
     "name": "stdout",
     "output_type": "stream",
     "text": [
      "The total of male patients are 676\n",
      "The toal of female patients are 662\n"
     ]
    }
   ],
   "source": [
    "#5.2\n",
    "class Count_Patients:\n",
    "    \n",
    "    def male_patients(self, sex):\n",
    "        male_ct = sex.count('male')\n",
    "        print ('The total of male patients are {}'.format(male_ct))\n",
    "    \n",
    "    def female_patients(self, sex):\n",
    "        female_pat = sex.count('female')\n",
    "        print('The toal of female patients are {}'.format(female_pat))\n",
    "    \n",
    "    \n",
    "b = Count_Patients()\n",
    "male_count = b.male_patients(patient_sex)\n",
    "female_count = b.female_patients(patient_sex)\n"
   ]
  },
  {
   "cell_type": "markdown",
   "metadata": {},
   "source": [
    "#### 3.)find geographical location of the patients"
   ]
  },
  {
   "cell_type": "code",
   "execution_count": 43,
   "metadata": {},
   "outputs": [
    {
     "name": "stdout",
     "output_type": "stream",
     "text": [
      "Counter({'southeast': 364, 'southwest': 325, 'northwest': 325, 'northeast': 324})\n"
     ]
    }
   ],
   "source": [
    "#5.3\n",
    "class Location:\n",
    "    \n",
    "    def loc_pat(self, location):\n",
    "        region_dict = Counter(location)\n",
    "        print(region_dict)\n",
    "        \n",
    "        \n",
    "        \n",
    "c = Location()\n",
    "geograpich_location = c.loc_pat(regions)"
   ]
  },
  {
   "cell_type": "markdown",
   "metadata": {},
   "source": [
    "#### 4.)return the average yearly medical charges of the patients\n"
   ]
  },
  {
   "cell_type": "code",
   "execution_count": 45,
   "metadata": {},
   "outputs": [
    {
     "name": "stdout",
     "output_type": "stream",
     "text": [
      "The average yearly medical charges is $13270.422\n"
     ]
    }
   ],
   "source": [
    "#5.4\n",
    "class Average_Charge:\n",
    "    \n",
    "    def avg_charge(self, money):\n",
    "        avg = sum(money) / len(money)\n",
    "        print('The average yearly medical charges is ${:2.3f}'.format(avg))\n",
    "        \n",
    "d = Average_Charge()\n",
    "yearly_avg_charge = d.avg_charge(patient_charges)\n",
    "\n"
   ]
  },
  {
   "cell_type": "markdown",
   "metadata": {},
   "source": [
    "#### 5.)creating a dictionary that contains all patient information"
   ]
  },
  {
   "cell_type": "code",
   "execution_count": 23,
   "metadata": {},
   "outputs": [],
   "source": [
    "#5.5\n",
    "class Patient:\n",
    "    \n",
    "    def patient_dict(self):\n",
    "        pat_dict = {}\n",
    "        for i in range(len(ages)):\n",
    "            pat_dict[i]= {'Age': ages[i], 'Sex':patient_sex[i], 'BMI': patient_bmi[i], 'Children': patient_children[i], 'Smoker_Status': smoker_status[i], 'Region': regions[i], 'Charges': patient_charges[i] }\n",
    "        return pat_dict\n",
    "        \n",
    "e = Patient()\n",
    "patient_data = e.patient_dict()\n",
    "        \n",
    "    "
   ]
  },
  {
   "cell_type": "markdown",
   "metadata": {},
   "source": [
    "#### Look at the different costs between smokers and non smokers\n"
   ]
  },
  {
   "cell_type": "code",
   "execution_count": 10,
   "metadata": {},
   "outputs": [
    {
     "name": "stdout",
     "output_type": "stream",
     "text": [
      "The total of patients who smoke is 274\n",
      "The total of patients who does not smoke is 1064\n",
      "The average cost for those who smoke is $32050.23\n",
      "The average cost for those who does not smoke is $8434.27\n"
     ]
    }
   ],
   "source": [
    "#Average cost of Smokers\n",
    "\n",
    "class Smoke_Analysis:\n",
    "    \n",
    "    smoker_count=0\n",
    "    non_smoker_count= 0\n",
    "    smoker_cost = 0\n",
    "    non_smoker_cost= 0\n",
    "    for i in patient_data:\n",
    "            if patient_data[i]['Smoker_Status'] == 'yes':\n",
    "                smoker_count += 1\n",
    "                smoker_cost += float(patient_data[i]['Charges'])\n",
    "            else:\n",
    "                non_smoker_count += 1\n",
    "                non_smoker_cost += float(patient_data[i]['Charges'])\n",
    "        \n",
    "    \n",
    "    def smoker_ct(self):\n",
    "        print('The total of patients who smoke is {}'.format(self.smoker_count))\n",
    "      \n",
    "    \n",
    "    def non_smoke_ct(self):\n",
    "        print('The total of patients who does not smoke is {}'.format(self.non_smoker_count))\n",
    "\n",
    "    \n",
    "    def avg_smoker(self):\n",
    "        avg = self.smoker_cost/ self.smoker_count \n",
    "        print ('The average cost for those who smoke is ${:2.2f}'.format(avg))\n",
    "        \n",
    "    def avg_non_smoker(self):\n",
    "        avg = self.non_smoker_cost / self.non_smoker_count\n",
    "        print ('The average cost for those who does not smoke is ${:2.2f}'.format(avg))\n",
    " \n",
    "\n",
    "\n",
    "\n",
    "f = Smoke_Analysis()\n",
    "qty_patient_smoke = f.smoker_ct()\n",
    "qty_patient_non_smoke = f.non_smoke_ct()\n",
    "avg_patient_smoke = f.avg_smoker()\n",
    "avg_patient_non_smoke = f.avg_non_smoker()\n",
    "\n"
   ]
  },
  {
   "cell_type": "markdown",
   "metadata": {},
   "source": [
    "#### Figure out the average cost for someone who has at least one child in this dataset.\n"
   ]
  },
  {
   "cell_type": "code",
   "execution_count": 38,
   "metadata": {},
   "outputs": [
    {
     "name": "stdout",
     "output_type": "stream",
     "text": [
      "The average cost of a patient with at least one children is  $13949.94\n",
      "The average cost of a patient with no children is  $12365.98\n"
     ]
    }
   ],
   "source": [
    "class Child_Analysis:\n",
    "    \n",
    "    pat_non_children_cost= 0\n",
    "    pat_non_children_count = 0\n",
    "    pat_children_count = 0\n",
    "    pat_children_cost = 0\n",
    "    \n",
    "    \n",
    "    for i in patient_data:\n",
    "        if patient_data[i]['Children'] > 0:\n",
    "            pat_children_count += 1\n",
    "            pat_children_cost += float(patient_data[i]['Charges'])\n",
    "            \n",
    "        else:\n",
    "            pat_non_children_count += 1\n",
    "            pat_non_children_cost += float(patient_data[i]['Charges'])\n",
    "\n",
    "\n",
    "    def avg_patient_child(self):\n",
    "        avg = self.pat_children_cost / self.pat_children_count\n",
    "        print ('The average cost of a patient with at least one children is  ${:2.2f}'.format(avg))\n",
    "        \n",
    "    \n",
    "    def avg_patient_non_child(self):\n",
    "        avg = self.pat_non_children_cost/ self.pat_non_children_count\n",
    "        print ('The average cost of a patient with no children is  ${:2.2f}'.format(avg))\n",
    "        \n",
    "        \n",
    "        \n",
    "e =  Child_Analysis()\n",
    "average_patient_with_children = e.avg_patient_child()\n",
    "average_patient_with_no_children = e.avg_patient_non_child()\n",
    "\n",
    "\n",
    "       "
   ]
  }
 ],
 "metadata": {
  "kernelspec": {
   "display_name": "Python 3 (ipykernel)",
   "language": "python",
   "name": "python3"
  },
  "language_info": {
   "codemirror_mode": {
    "name": "ipython",
    "version": 3
   },
   "file_extension": ".py",
   "mimetype": "text/x-python",
   "name": "python",
   "nbconvert_exporter": "python",
   "pygments_lexer": "ipython3",
   "version": "3.9.7"
  }
 },
 "nbformat": 4,
 "nbformat_minor": 4
}
